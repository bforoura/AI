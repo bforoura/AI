{
  "nbformat": 4,
  "nbformat_minor": 0,
  "metadata": {
    "colab": {
      "provenance": [],
      "authorship_tag": "ABX9TyNQ4eN9hTOxo8Mj4G8G1/qU",
      "include_colab_link": true
    },
    "kernelspec": {
      "name": "python3",
      "display_name": "Python 3"
    },
    "language_info": {
      "name": "python"
    }
  },
  "cells": [
    {
      "cell_type": "markdown",
      "metadata": {
        "id": "view-in-github",
        "colab_type": "text"
      },
      "source": [
        "<a href=\"https://colab.research.google.com/github/bforoura/AI/blob/main/Module2/Uniform_Cost_Search.ipynb\" target=\"_parent\"><img src=\"https://colab.research.google.com/assets/colab-badge.svg\" alt=\"Open In Colab\"/></a>"
      ]
    },
    {
      "cell_type": "code",
      "source": [
        "# https://docs.python.org/3/library/heapq.html\n",
        "\n",
        "import heapq\n",
        "\n",
        "def UCS(graph, root, costs, goal=None):\n",
        "\n",
        "    # Priority queue (min-heap) where each element is (cost, node)\n",
        "    pq = [(0, root)]  # Start with root at cost 0\n",
        "    visited = {}  # Dictionary to track the minimum cost to reach each node\n",
        "\n",
        "    while pq:\n",
        "        # Pop the node with the lowest cost\n",
        "        current_cost, vertex = heapq.heappop(pq)\n",
        "\n",
        "        # If this node has already been visited with a cheaper path, skip it\n",
        "        if vertex in visited and visited[vertex] <= current_cost:\n",
        "            continue\n",
        "\n",
        "        # Mark this node as visited with the current cost\n",
        "        visited[vertex] = current_cost\n",
        "        print(f\"Visiting: {vertex}, Cost: {current_cost}\")\n",
        "\n",
        "        # If we found the goal, we can stop\n",
        "        if vertex == goal:\n",
        "            print(f\"Goal {goal} found with cost: {current_cost}\")\n",
        "            break\n",
        "\n",
        "        # Explore neighbors\n",
        "        for neighbor in graph[vertex]:\n",
        "            new_cost = current_cost + costs.get((vertex, neighbor), 1)  # Default cost is 1 if not given\n",
        "            if neighbor not in visited or new_cost < visited.get(neighbor, float('inf')):\n",
        "                heapq.heappush(pq, (new_cost, neighbor))  # Push with the new cost"
      ],
      "metadata": {
        "id": "I4050aNMEYOH"
      },
      "execution_count": 18,
      "outputs": []
    },
    {
      "cell_type": "markdown",
      "source": [
        "![image.png](data:image/png;base64,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)"
      ],
      "metadata": {
        "id": "6MvbcwroE1qp"
      }
    },
    {
      "cell_type": "code",
      "source": [
        "# Simpler graph as dsicussed in class\n",
        "graph = {\n",
        "    'S': ['A', 'B'],\n",
        "    'A': ['G'],\n",
        "    'B': ['C'],\n",
        "    'C': ['G'],\n",
        "}\n",
        "\n",
        "# Cost dictionary for edges\n",
        "costs = {\n",
        "    ('S', 'A'): 1, ('S', 'B'): 1,\n",
        "    ('A', 'G'): 5,\n",
        "    ('B', 'C'): 1,\n",
        "    ('C', 'G'): 1,\n",
        "}"
      ],
      "metadata": {
        "id": "_vFDTfIGDycp"
      },
      "execution_count": 19,
      "outputs": []
    },
    {
      "cell_type": "code",
      "source": [
        "# Example usage\n",
        "UCS(graph, 'S', costs, goal='G')"
      ],
      "metadata": {
        "colab": {
          "base_uri": "https://localhost:8080/"
        },
        "id": "ugfhCo2eD5uG",
        "outputId": "395ffae8-c64d-4e06-9f68-8c10e4fe96df"
      },
      "execution_count": 20,
      "outputs": [
        {
          "output_type": "stream",
          "name": "stdout",
          "text": [
            "Visiting: S, Cost: 0\n",
            "Visiting: A, Cost: 1\n",
            "Visiting: B, Cost: 1\n",
            "Visiting: C, Cost: 2\n",
            "Visiting: G, Cost: 3\n",
            "Goal G found with cost: 3\n"
          ]
        }
      ]
    }
  ]
}