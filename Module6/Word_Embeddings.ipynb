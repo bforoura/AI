{
  "nbformat": 4,
  "nbformat_minor": 0,
  "metadata": {
    "colab": {
      "provenance": [],
      "include_colab_link": true
    },
    "kernelspec": {
      "name": "python3",
      "display_name": "Python 3"
    },
    "widgets": {
      "application/vnd.jupyter.widget-state+json": {
        "0b591df097dd452daca79306abcd3f79": {
          "model_module": "@jupyter-widgets/controls",
          "model_name": "HBoxModel",
          "state": {
            "_view_name": "HBoxView",
            "_dom_classes": [],
            "_model_name": "HBoxModel",
            "_view_module": "@jupyter-widgets/controls",
            "_model_module_version": "1.5.0",
            "_view_count": null,
            "_view_module_version": "1.5.0",
            "box_style": "",
            "layout": "IPY_MODEL_fb59e680d06f4d438d7c3e4cea592b75",
            "_model_module": "@jupyter-widgets/controls",
            "children": [
              "IPY_MODEL_c45252039ecd464596a5c2ce83b58e02",
              "IPY_MODEL_4d67c47413e74cca9353e304944f5c22"
            ]
          },
          "model_module_version": "1.5.0"
        },
        "fb59e680d06f4d438d7c3e4cea592b75": {
          "model_module": "@jupyter-widgets/base",
          "model_name": "LayoutModel",
          "state": {
            "_view_name": "LayoutView",
            "grid_template_rows": null,
            "right": null,
            "justify_content": null,
            "_view_module": "@jupyter-widgets/base",
            "overflow": null,
            "_model_module_version": "1.2.0",
            "_view_count": null,
            "flex_flow": null,
            "width": null,
            "min_width": null,
            "border": null,
            "align_items": null,
            "bottom": null,
            "_model_module": "@jupyter-widgets/base",
            "top": null,
            "grid_column": null,
            "overflow_y": null,
            "overflow_x": null,
            "grid_auto_flow": null,
            "grid_area": null,
            "grid_template_columns": null,
            "flex": null,
            "_model_name": "LayoutModel",
            "justify_items": null,
            "grid_row": null,
            "max_height": null,
            "align_content": null,
            "visibility": null,
            "align_self": null,
            "height": null,
            "min_height": null,
            "padding": null,
            "grid_auto_rows": null,
            "grid_gap": null,
            "max_width": null,
            "order": null,
            "_view_module_version": "1.2.0",
            "grid_template_areas": null,
            "object_position": null,
            "object_fit": null,
            "grid_auto_columns": null,
            "margin": null,
            "display": null,
            "left": null
          },
          "model_module_version": "1.2.0"
        },
        "c45252039ecd464596a5c2ce83b58e02": {
          "model_module": "@jupyter-widgets/controls",
          "model_name": "FloatProgressModel",
          "state": {
            "_view_name": "ProgressView",
            "style": "IPY_MODEL_7b97c0edb8f742babe70de9507afb9fe",
            "_dom_classes": [],
            "description": "Downloading: 100%",
            "_model_name": "FloatProgressModel",
            "bar_style": "success",
            "max": 231508,
            "_view_module": "@jupyter-widgets/controls",
            "_model_module_version": "1.5.0",
            "value": 231508,
            "_view_count": null,
            "_view_module_version": "1.5.0",
            "orientation": "horizontal",
            "min": 0,
            "description_tooltip": null,
            "_model_module": "@jupyter-widgets/controls",
            "layout": "IPY_MODEL_fcd212aa59fe4e38925c4d57ac45e2d3"
          },
          "model_module_version": "1.5.0"
        },
        "4d67c47413e74cca9353e304944f5c22": {
          "model_module": "@jupyter-widgets/controls",
          "model_name": "HTMLModel",
          "state": {
            "_view_name": "HTMLView",
            "style": "IPY_MODEL_92d33031edb04a9f80891cba9dddd9df",
            "_dom_classes": [],
            "description": "",
            "_model_name": "HTMLModel",
            "placeholder": "​",
            "_view_module": "@jupyter-widgets/controls",
            "_model_module_version": "1.5.0",
            "value": " 232k/232k [00:00&lt;00:00, 675kB/s]",
            "_view_count": null,
            "_view_module_version": "1.5.0",
            "description_tooltip": null,
            "_model_module": "@jupyter-widgets/controls",
            "layout": "IPY_MODEL_a900bc08c9944d8b931c0c64f5371082"
          },
          "model_module_version": "1.5.0"
        },
        "7b97c0edb8f742babe70de9507afb9fe": {
          "model_module": "@jupyter-widgets/controls",
          "model_name": "ProgressStyleModel",
          "state": {
            "_view_name": "StyleView",
            "_model_name": "ProgressStyleModel",
            "description_width": "initial",
            "_view_module": "@jupyter-widgets/base",
            "_model_module_version": "1.5.0",
            "_view_count": null,
            "_view_module_version": "1.2.0",
            "bar_color": null,
            "_model_module": "@jupyter-widgets/controls"
          },
          "model_module_version": "1.5.0"
        },
        "fcd212aa59fe4e38925c4d57ac45e2d3": {
          "model_module": "@jupyter-widgets/base",
          "model_name": "LayoutModel",
          "state": {
            "_view_name": "LayoutView",
            "grid_template_rows": null,
            "right": null,
            "justify_content": null,
            "_view_module": "@jupyter-widgets/base",
            "overflow": null,
            "_model_module_version": "1.2.0",
            "_view_count": null,
            "flex_flow": null,
            "width": null,
            "min_width": null,
            "border": null,
            "align_items": null,
            "bottom": null,
            "_model_module": "@jupyter-widgets/base",
            "top": null,
            "grid_column": null,
            "overflow_y": null,
            "overflow_x": null,
            "grid_auto_flow": null,
            "grid_area": null,
            "grid_template_columns": null,
            "flex": null,
            "_model_name": "LayoutModel",
            "justify_items": null,
            "grid_row": null,
            "max_height": null,
            "align_content": null,
            "visibility": null,
            "align_self": null,
            "height": null,
            "min_height": null,
            "padding": null,
            "grid_auto_rows": null,
            "grid_gap": null,
            "max_width": null,
            "order": null,
            "_view_module_version": "1.2.0",
            "grid_template_areas": null,
            "object_position": null,
            "object_fit": null,
            "grid_auto_columns": null,
            "margin": null,
            "display": null,
            "left": null
          },
          "model_module_version": "1.2.0"
        },
        "92d33031edb04a9f80891cba9dddd9df": {
          "model_module": "@jupyter-widgets/controls",
          "model_name": "DescriptionStyleModel",
          "state": {
            "_view_name": "StyleView",
            "_model_name": "DescriptionStyleModel",
            "description_width": "",
            "_view_module": "@jupyter-widgets/base",
            "_model_module_version": "1.5.0",
            "_view_count": null,
            "_view_module_version": "1.2.0",
            "_model_module": "@jupyter-widgets/controls"
          },
          "model_module_version": "1.5.0"
        },
        "a900bc08c9944d8b931c0c64f5371082": {
          "model_module": "@jupyter-widgets/base",
          "model_name": "LayoutModel",
          "state": {
            "_view_name": "LayoutView",
            "grid_template_rows": null,
            "right": null,
            "justify_content": null,
            "_view_module": "@jupyter-widgets/base",
            "overflow": null,
            "_model_module_version": "1.2.0",
            "_view_count": null,
            "flex_flow": null,
            "width": null,
            "min_width": null,
            "border": null,
            "align_items": null,
            "bottom": null,
            "_model_module": "@jupyter-widgets/base",
            "top": null,
            "grid_column": null,
            "overflow_y": null,
            "overflow_x": null,
            "grid_auto_flow": null,
            "grid_area": null,
            "grid_template_columns": null,
            "flex": null,
            "_model_name": "LayoutModel",
            "justify_items": null,
            "grid_row": null,
            "max_height": null,
            "align_content": null,
            "visibility": null,
            "align_self": null,
            "height": null,
            "min_height": null,
            "padding": null,
            "grid_auto_rows": null,
            "grid_gap": null,
            "max_width": null,
            "order": null,
            "_view_module_version": "1.2.0",
            "grid_template_areas": null,
            "object_position": null,
            "object_fit": null,
            "grid_auto_columns": null,
            "margin": null,
            "display": null,
            "left": null
          },
          "model_module_version": "1.2.0"
        },
        "1ae7a66074b24b30b7b8d47b75104c7f": {
          "model_module": "@jupyter-widgets/controls",
          "model_name": "HBoxModel",
          "state": {
            "_view_name": "HBoxView",
            "_dom_classes": [],
            "_model_name": "HBoxModel",
            "_view_module": "@jupyter-widgets/controls",
            "_model_module_version": "1.5.0",
            "_view_count": null,
            "_view_module_version": "1.5.0",
            "box_style": "",
            "layout": "IPY_MODEL_16a736e460f749c9a1c035723a1ad201",
            "_model_module": "@jupyter-widgets/controls",
            "children": [
              "IPY_MODEL_7843040f735546afb64c90602c1c8a0b",
              "IPY_MODEL_596cc22cc85948238fa53d923227f1ae"
            ]
          },
          "model_module_version": "1.5.0"
        },
        "16a736e460f749c9a1c035723a1ad201": {
          "model_module": "@jupyter-widgets/base",
          "model_name": "LayoutModel",
          "state": {
            "_view_name": "LayoutView",
            "grid_template_rows": null,
            "right": null,
            "justify_content": null,
            "_view_module": "@jupyter-widgets/base",
            "overflow": null,
            "_model_module_version": "1.2.0",
            "_view_count": null,
            "flex_flow": null,
            "width": null,
            "min_width": null,
            "border": null,
            "align_items": null,
            "bottom": null,
            "_model_module": "@jupyter-widgets/base",
            "top": null,
            "grid_column": null,
            "overflow_y": null,
            "overflow_x": null,
            "grid_auto_flow": null,
            "grid_area": null,
            "grid_template_columns": null,
            "flex": null,
            "_model_name": "LayoutModel",
            "justify_items": null,
            "grid_row": null,
            "max_height": null,
            "align_content": null,
            "visibility": null,
            "align_self": null,
            "height": null,
            "min_height": null,
            "padding": null,
            "grid_auto_rows": null,
            "grid_gap": null,
            "max_width": null,
            "order": null,
            "_view_module_version": "1.2.0",
            "grid_template_areas": null,
            "object_position": null,
            "object_fit": null,
            "grid_auto_columns": null,
            "margin": null,
            "display": null,
            "left": null
          },
          "model_module_version": "1.2.0"
        },
        "7843040f735546afb64c90602c1c8a0b": {
          "model_module": "@jupyter-widgets/controls",
          "model_name": "FloatProgressModel",
          "state": {
            "_view_name": "ProgressView",
            "style": "IPY_MODEL_023206090efd43f3bf81dfddf342e5c1",
            "_dom_classes": [],
            "description": "100%",
            "_model_name": "FloatProgressModel",
            "bar_style": "success",
            "max": 4,
            "_view_module": "@jupyter-widgets/controls",
            "_model_module_version": "1.5.0",
            "value": 4,
            "_view_count": null,
            "_view_module_version": "1.5.0",
            "orientation": "horizontal",
            "min": 0,
            "description_tooltip": null,
            "_model_module": "@jupyter-widgets/controls",
            "layout": "IPY_MODEL_a750268e28d24240bf36532404abc1fa"
          },
          "model_module_version": "1.5.0"
        },
        "596cc22cc85948238fa53d923227f1ae": {
          "model_module": "@jupyter-widgets/controls",
          "model_name": "HTMLModel",
          "state": {
            "_view_name": "HTMLView",
            "style": "IPY_MODEL_98985960e55f438ba8dbbf77c50ed47b",
            "_dom_classes": [],
            "description": "",
            "_model_name": "HTMLModel",
            "placeholder": "​",
            "_view_module": "@jupyter-widgets/controls",
            "_model_module_version": "1.5.0",
            "value": " 4/4 [00:00&lt;00:00, 63.59it/s]",
            "_view_count": null,
            "_view_module_version": "1.5.0",
            "description_tooltip": null,
            "_model_module": "@jupyter-widgets/controls",
            "layout": "IPY_MODEL_c81ccc42ccb245a3b3c965b237576550"
          },
          "model_module_version": "1.5.0"
        },
        "023206090efd43f3bf81dfddf342e5c1": {
          "model_module": "@jupyter-widgets/controls",
          "model_name": "ProgressStyleModel",
          "state": {
            "_view_name": "StyleView",
            "_model_name": "ProgressStyleModel",
            "description_width": "initial",
            "_view_module": "@jupyter-widgets/base",
            "_model_module_version": "1.5.0",
            "_view_count": null,
            "_view_module_version": "1.2.0",
            "bar_color": null,
            "_model_module": "@jupyter-widgets/controls"
          },
          "model_module_version": "1.5.0"
        },
        "a750268e28d24240bf36532404abc1fa": {
          "model_module": "@jupyter-widgets/base",
          "model_name": "LayoutModel",
          "state": {
            "_view_name": "LayoutView",
            "grid_template_rows": null,
            "right": null,
            "justify_content": null,
            "_view_module": "@jupyter-widgets/base",
            "overflow": null,
            "_model_module_version": "1.2.0",
            "_view_count": null,
            "flex_flow": null,
            "width": null,
            "min_width": null,
            "border": null,
            "align_items": null,
            "bottom": null,
            "_model_module": "@jupyter-widgets/base",
            "top": null,
            "grid_column": null,
            "overflow_y": null,
            "overflow_x": null,
            "grid_auto_flow": null,
            "grid_area": null,
            "grid_template_columns": null,
            "flex": null,
            "_model_name": "LayoutModel",
            "justify_items": null,
            "grid_row": null,
            "max_height": null,
            "align_content": null,
            "visibility": null,
            "align_self": null,
            "height": null,
            "min_height": null,
            "padding": null,
            "grid_auto_rows": null,
            "grid_gap": null,
            "max_width": null,
            "order": null,
            "_view_module_version": "1.2.0",
            "grid_template_areas": null,
            "object_position": null,
            "object_fit": null,
            "grid_auto_columns": null,
            "margin": null,
            "display": null,
            "left": null
          },
          "model_module_version": "1.2.0"
        },
        "98985960e55f438ba8dbbf77c50ed47b": {
          "model_module": "@jupyter-widgets/controls",
          "model_name": "DescriptionStyleModel",
          "state": {
            "_view_name": "StyleView",
            "_model_name": "DescriptionStyleModel",
            "description_width": "",
            "_view_module": "@jupyter-widgets/base",
            "_model_module_version": "1.5.0",
            "_view_count": null,
            "_view_module_version": "1.2.0",
            "_model_module": "@jupyter-widgets/controls"
          },
          "model_module_version": "1.5.0"
        },
        "c81ccc42ccb245a3b3c965b237576550": {
          "model_module": "@jupyter-widgets/base",
          "model_name": "LayoutModel",
          "state": {
            "_view_name": "LayoutView",
            "grid_template_rows": null,
            "right": null,
            "justify_content": null,
            "_view_module": "@jupyter-widgets/base",
            "overflow": null,
            "_model_module_version": "1.2.0",
            "_view_count": null,
            "flex_flow": null,
            "width": null,
            "min_width": null,
            "border": null,
            "align_items": null,
            "bottom": null,
            "_model_module": "@jupyter-widgets/base",
            "top": null,
            "grid_column": null,
            "overflow_y": null,
            "overflow_x": null,
            "grid_auto_flow": null,
            "grid_area": null,
            "grid_template_columns": null,
            "flex": null,
            "_model_name": "LayoutModel",
            "justify_items": null,
            "grid_row": null,
            "max_height": null,
            "align_content": null,
            "visibility": null,
            "align_self": null,
            "height": null,
            "min_height": null,
            "padding": null,
            "grid_auto_rows": null,
            "grid_gap": null,
            "max_width": null,
            "order": null,
            "_view_module_version": "1.2.0",
            "grid_template_areas": null,
            "object_position": null,
            "object_fit": null,
            "grid_auto_columns": null,
            "margin": null,
            "display": null,
            "left": null
          },
          "model_module_version": "1.2.0"
        },
        "2899a7fc90ab4541af179a63abba0b39": {
          "model_module": "@jupyter-widgets/controls",
          "model_name": "HBoxModel",
          "state": {
            "_view_name": "HBoxView",
            "_dom_classes": [],
            "_model_name": "HBoxModel",
            "_view_module": "@jupyter-widgets/controls",
            "_model_module_version": "1.5.0",
            "_view_count": null,
            "_view_module_version": "1.5.0",
            "box_style": "",
            "layout": "IPY_MODEL_700b9b4369d04c7baa90551057950298",
            "_model_module": "@jupyter-widgets/controls",
            "children": [
              "IPY_MODEL_a93285635aef433281557db177e019af",
              "IPY_MODEL_dcf81c767ad84cb9b2c305d1d94743e7"
            ]
          },
          "model_module_version": "1.5.0"
        },
        "700b9b4369d04c7baa90551057950298": {
          "model_module": "@jupyter-widgets/base",
          "model_name": "LayoutModel",
          "state": {
            "_view_name": "LayoutView",
            "grid_template_rows": null,
            "right": null,
            "justify_content": null,
            "_view_module": "@jupyter-widgets/base",
            "overflow": null,
            "_model_module_version": "1.2.0",
            "_view_count": null,
            "flex_flow": null,
            "width": null,
            "min_width": null,
            "border": null,
            "align_items": null,
            "bottom": null,
            "_model_module": "@jupyter-widgets/base",
            "top": null,
            "grid_column": null,
            "overflow_y": null,
            "overflow_x": null,
            "grid_auto_flow": null,
            "grid_area": null,
            "grid_template_columns": null,
            "flex": null,
            "_model_name": "LayoutModel",
            "justify_items": null,
            "grid_row": null,
            "max_height": null,
            "align_content": null,
            "visibility": null,
            "align_self": null,
            "height": null,
            "min_height": null,
            "padding": null,
            "grid_auto_rows": null,
            "grid_gap": null,
            "max_width": null,
            "order": null,
            "_view_module_version": "1.2.0",
            "grid_template_areas": null,
            "object_position": null,
            "object_fit": null,
            "grid_auto_columns": null,
            "margin": null,
            "display": null,
            "left": null
          },
          "model_module_version": "1.2.0"
        },
        "a93285635aef433281557db177e019af": {
          "model_module": "@jupyter-widgets/controls",
          "model_name": "FloatProgressModel",
          "state": {
            "_view_name": "ProgressView",
            "style": "IPY_MODEL_6898eb8c7ccd4bc59ba327b244edf4af",
            "_dom_classes": [],
            "description": "100%",
            "_model_name": "FloatProgressModel",
            "bar_style": "success",
            "max": 1,
            "_view_module": "@jupyter-widgets/controls",
            "_model_module_version": "1.5.0",
            "value": 1,
            "_view_count": null,
            "_view_module_version": "1.5.0",
            "orientation": "horizontal",
            "min": 0,
            "description_tooltip": null,
            "_model_module": "@jupyter-widgets/controls",
            "layout": "IPY_MODEL_6e779a45d40f408a9a7419a11101e0b4"
          },
          "model_module_version": "1.5.0"
        },
        "dcf81c767ad84cb9b2c305d1d94743e7": {
          "model_module": "@jupyter-widgets/controls",
          "model_name": "HTMLModel",
          "state": {
            "_view_name": "HTMLView",
            "style": "IPY_MODEL_3108385d70a24cc8a9fde1f4c8c91d19",
            "_dom_classes": [],
            "description": "",
            "_model_name": "HTMLModel",
            "placeholder": "​",
            "_view_module": "@jupyter-widgets/controls",
            "_model_module_version": "1.5.0",
            "value": " 1/1 [00:00&lt;00:00,  1.26it/s]",
            "_view_count": null,
            "_view_module_version": "1.5.0",
            "description_tooltip": null,
            "_model_module": "@jupyter-widgets/controls",
            "layout": "IPY_MODEL_aea2a412a09f46d2b68a36c23a3577f3"
          },
          "model_module_version": "1.5.0"
        },
        "6898eb8c7ccd4bc59ba327b244edf4af": {
          "model_module": "@jupyter-widgets/controls",
          "model_name": "ProgressStyleModel",
          "state": {
            "_view_name": "StyleView",
            "_model_name": "ProgressStyleModel",
            "description_width": "initial",
            "_view_module": "@jupyter-widgets/base",
            "_model_module_version": "1.5.0",
            "_view_count": null,
            "_view_module_version": "1.2.0",
            "bar_color": null,
            "_model_module": "@jupyter-widgets/controls"
          },
          "model_module_version": "1.5.0"
        },
        "6e779a45d40f408a9a7419a11101e0b4": {
          "model_module": "@jupyter-widgets/base",
          "model_name": "LayoutModel",
          "state": {
            "_view_name": "LayoutView",
            "grid_template_rows": null,
            "right": null,
            "justify_content": null,
            "_view_module": "@jupyter-widgets/base",
            "overflow": null,
            "_model_module_version": "1.2.0",
            "_view_count": null,
            "flex_flow": null,
            "width": null,
            "min_width": null,
            "border": null,
            "align_items": null,
            "bottom": null,
            "_model_module": "@jupyter-widgets/base",
            "top": null,
            "grid_column": null,
            "overflow_y": null,
            "overflow_x": null,
            "grid_auto_flow": null,
            "grid_area": null,
            "grid_template_columns": null,
            "flex": null,
            "_model_name": "LayoutModel",
            "justify_items": null,
            "grid_row": null,
            "max_height": null,
            "align_content": null,
            "visibility": null,
            "align_self": null,
            "height": null,
            "min_height": null,
            "padding": null,
            "grid_auto_rows": null,
            "grid_gap": null,
            "max_width": null,
            "order": null,
            "_view_module_version": "1.2.0",
            "grid_template_areas": null,
            "object_position": null,
            "object_fit": null,
            "grid_auto_columns": null,
            "margin": null,
            "display": null,
            "left": null
          },
          "model_module_version": "1.2.0"
        },
        "3108385d70a24cc8a9fde1f4c8c91d19": {
          "model_module": "@jupyter-widgets/controls",
          "model_name": "DescriptionStyleModel",
          "state": {
            "_view_name": "StyleView",
            "_model_name": "DescriptionStyleModel",
            "description_width": "",
            "_view_module": "@jupyter-widgets/base",
            "_model_module_version": "1.5.0",
            "_view_count": null,
            "_view_module_version": "1.2.0",
            "_model_module": "@jupyter-widgets/controls"
          },
          "model_module_version": "1.5.0"
        },
        "aea2a412a09f46d2b68a36c23a3577f3": {
          "model_module": "@jupyter-widgets/base",
          "model_name": "LayoutModel",
          "state": {
            "_view_name": "LayoutView",
            "grid_template_rows": null,
            "right": null,
            "justify_content": null,
            "_view_module": "@jupyter-widgets/base",
            "overflow": null,
            "_model_module_version": "1.2.0",
            "_view_count": null,
            "flex_flow": null,
            "width": null,
            "min_width": null,
            "border": null,
            "align_items": null,
            "bottom": null,
            "_model_module": "@jupyter-widgets/base",
            "top": null,
            "grid_column": null,
            "overflow_y": null,
            "overflow_x": null,
            "grid_auto_flow": null,
            "grid_area": null,
            "grid_template_columns": null,
            "flex": null,
            "_model_name": "LayoutModel",
            "justify_items": null,
            "grid_row": null,
            "max_height": null,
            "align_content": null,
            "visibility": null,
            "align_self": null,
            "height": null,
            "min_height": null,
            "padding": null,
            "grid_auto_rows": null,
            "grid_gap": null,
            "max_width": null,
            "order": null,
            "_view_module_version": "1.2.0",
            "grid_template_areas": null,
            "object_position": null,
            "object_fit": null,
            "grid_auto_columns": null,
            "margin": null,
            "display": null,
            "left": null
          },
          "model_module_version": "1.2.0"
        }
      }
    }
  },
  "cells": [
    {
      "cell_type": "markdown",
      "metadata": {
        "id": "view-in-github",
        "colab_type": "text"
      },
      "source": [
        "<a href=\"https://colab.research.google.com/github/bforoura/AI/blob/main/Module7/Word_Embeddings.ipynb\" target=\"_parent\"><img src=\"https://colab.research.google.com/assets/colab-badge.svg\" alt=\"Open In Colab\"/></a>"
      ]
    },
    {
      "cell_type": "markdown",
      "metadata": {
        "id": "ZYwcIXq4t7cg"
      },
      "source": [
        "**Word Embeddings**"
      ]
    },
    {
      "cell_type": "markdown",
      "metadata": {
        "id": "uabj5jkUt_hK"
      },
      "source": [
        "**Word embedding** is the collective name for a set of language modeling and feature learning techniques in natural language processing (NLP) where words or phrases from the vocabulary are mapped to vectors of real numbers.\n",
        "\n",
        "![image.png](data:image/png;base64,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)"
      ]
    },
    {
      "cell_type": "markdown",
      "metadata": {
        "id": "knWTPeFGvCVr"
      },
      "source": [
        "## One-hot or CountVectorizing\n",
        "\n",
        "The most basic method for transforming words into vectors is to count occurrence of each word in each document. Such approach is called countvectorizing or one-hot encoding.\n",
        "\n",
        "The main principle of this method is to collect a set of documents (they can be words, sentences, paragraphs or even articles) and count the occurrence of every word in each document. Strictly speaking, the columns of the resulting matrix are words and the rows are documents."
      ]
    },
    {
      "cell_type": "code",
      "metadata": {
        "id": "CqL-rowBt3FB"
      },
      "source": [
        "from sklearn.feature_extraction.text import CountVectorizer\n",
        "# create CountVectorizer object\n",
        "vectorizer = CountVectorizer()\n",
        "corpus = [\n",
        "          'Text of the very first new sentence with the first words in sentence.',\n",
        "          'Text of the second sentence.',\n",
        "          'Number three with lot of words words words.',\n",
        "          'Short text, less words.',\n",
        "]"
      ],
      "execution_count": null,
      "outputs": []
    },
    {
      "cell_type": "code",
      "metadata": {
        "id": "0nz67PMDv4-1",
        "colab": {
          "base_uri": "https://localhost:8080/",
          "height": 86
        },
        "outputId": "630d6f22-09a1-4017-d562-2f21de063c88"
      },
      "source": [
        "corpus"
      ],
      "execution_count": null,
      "outputs": [
        {
          "output_type": "execute_result",
          "data": {
            "text/plain": [
              "['Text of the very first new sentence with the first words in sentence.',\n",
              " 'Text of the second sentence.',\n",
              " 'Number three with lot of words words words.',\n",
              " 'Short text, less words.']"
            ]
          },
          "metadata": {
            "tags": []
          },
          "execution_count": 2
        }
      ]
    },
    {
      "cell_type": "code",
      "metadata": {
        "id": "jp5Ylyahv-Sx",
        "colab": {
          "base_uri": "https://localhost:8080/",
          "height": 295
        },
        "outputId": "fade7f2d-e79a-43d1-aa03-4fa7798ec299"
      },
      "source": [
        "# learn the vocabulary and store CountVectorizer sparse matrix in term_frequencies\n",
        "term_frequencies = vectorizer.fit_transform(corpus)\n",
        "vocab = vectorizer.get_feature_names()\n",
        "vocab"
      ],
      "execution_count": null,
      "outputs": [
        {
          "output_type": "execute_result",
          "data": {
            "text/plain": [
              "['first',\n",
              " 'in',\n",
              " 'less',\n",
              " 'lot',\n",
              " 'new',\n",
              " 'number',\n",
              " 'of',\n",
              " 'second',\n",
              " 'sentence',\n",
              " 'short',\n",
              " 'text',\n",
              " 'the',\n",
              " 'three',\n",
              " 'very',\n",
              " 'with',\n",
              " 'words']"
            ]
          },
          "metadata": {
            "tags": []
          },
          "execution_count": 3
        }
      ]
    },
    {
      "cell_type": "code",
      "metadata": {
        "id": "n9Wzj12tFU4-",
        "colab": {
          "base_uri": "https://localhost:8080/",
          "height": 86
        },
        "outputId": "7662230b-8903-4f0b-fbb2-b50539dd53e2"
      },
      "source": [
        "term_frequencies = term_frequencies.toarray() # convert sparse matrix to numpy array\n",
        "term_frequencies"
      ],
      "execution_count": null,
      "outputs": [
        {
          "output_type": "execute_result",
          "data": {
            "text/plain": [
              "array([[2, 1, 0, 0, 1, 0, 1, 0, 2, 0, 1, 2, 0, 1, 1, 1],\n",
              "       [0, 0, 0, 0, 0, 0, 1, 1, 1, 0, 1, 1, 0, 0, 0, 0],\n",
              "       [0, 0, 0, 1, 0, 1, 1, 0, 0, 0, 0, 0, 1, 0, 1, 3],\n",
              "       [0, 0, 1, 0, 0, 0, 0, 0, 0, 1, 1, 0, 0, 0, 0, 1]])"
            ]
          },
          "metadata": {
            "tags": []
          },
          "execution_count": 4
        }
      ]
    },
    {
      "cell_type": "code",
      "metadata": {
        "id": "7AMSth6SJ-VL",
        "colab": {
          "base_uri": "https://localhost:8080/",
          "height": 301
        },
        "outputId": "4fb141cb-ad88-4bb5-e896-79ba5d7274c0"
      },
      "source": [
        "import seaborn as sns\n",
        "sns.heatmap(term_frequencies, annot=True, cbar = False, xticklabels = vocab);"
      ],
      "execution_count": null,
      "outputs": [
        {
          "output_type": "display_data",
          "data": {
            "image/png": "[encoded data removed]",
            "text/plain": [
              "<Figure size 432x288 with 1 Axes>"
            ]
          },
          "metadata": {
            "tags": [],
            "needs_background": "light"
          }
        }
      ]
    },
    {
      "cell_type": "code",
      "metadata": {
        "id": "5swG8_LdwPEN",
        "colab": {
          "base_uri": "https://localhost:8080/",
          "height": 34
        },
        "outputId": "f1200019-3098-4d9e-bc3e-82dde19f5985"
      },
      "source": [
        "# Convert another document with countvectorizing\n",
        "vectorizer.transform(['A new new sentence.']).toarray()"
      ],
      "execution_count": null,
      "outputs": [
        {
          "output_type": "execute_result",
          "data": {
            "text/plain": [
              "array([[0, 0, 0, 0, 2, 0, 0, 0, 1, 0, 0, 0, 0, 0, 0, 0]])"
            ]
          },
          "metadata": {
            "tags": []
          },
          "execution_count": 7
        }
      ]
    },
    {
      "cell_type": "markdown",
      "metadata": {
        "id": "CKO-WI3IEuaR"
      },
      "source": [
        "Another approach in countvectorizing is just to place 1 if the word is found in the document (no matter how often) and 0 if the word is not found in the document. In this case we get real 'one-hot' encoding."
      ]
    },
    {
      "cell_type": "code",
      "metadata": {
        "id": "Cd8wwfuWED1w",
        "colab": {
          "base_uri": "https://localhost:8080/",
          "height": 86
        },
        "outputId": "7c0b894b-544f-4220-b972-251acad6b7c5"
      },
      "source": [
        "one_hot_vectorizer = CountVectorizer(binary=True)\n",
        "one_hot = one_hot_vectorizer.fit_transform(corpus).toarray()\n",
        "one_hot"
      ],
      "execution_count": null,
      "outputs": [
        {
          "output_type": "execute_result",
          "data": {
            "text/plain": [
              "array([[1, 1, 0, 0, 1, 0, 1, 0, 1, 0, 1, 1, 0, 1, 1, 1],\n",
              "       [0, 0, 0, 0, 0, 0, 1, 1, 1, 0, 1, 1, 0, 0, 0, 0],\n",
              "       [0, 0, 0, 1, 0, 1, 1, 0, 0, 0, 0, 0, 1, 0, 1, 1],\n",
              "       [0, 0, 1, 0, 0, 0, 0, 0, 0, 1, 1, 0, 0, 0, 0, 1]])"
            ]
          },
          "metadata": {
            "tags": []
          },
          "execution_count": 8
        }
      ]
    },
    {
      "cell_type": "code",
      "metadata": {
        "id": "HMr0ixndJlL7",
        "colab": {
          "base_uri": "https://localhost:8080/",
          "height": 318
        },
        "outputId": "2ed28df2-136a-4a03-80aa-ad8982399b9a"
      },
      "source": [
        "sns.heatmap(one_hot, annot=True, cbar = False, xticklabels = vocab)"
      ],
      "execution_count": null,
      "outputs": [
        {
          "output_type": "execute_result",
          "data": {
            "text/plain": [
              "<matplotlib.axes._subplots.AxesSubplot at 0x7f99ba578198>"
            ]
          },
          "metadata": {
            "tags": []
          },
          "execution_count": 9
        },
        {
          "output_type": "display_data",
          "data": {
            "image/png": "[encoded data removed]",
            "text/plain": [
              "<Figure size 432x288 with 1 Axes>"
            ]
          },
          "metadata": {
            "tags": [],
            "needs_background": "light"
          }
        }
      ]
    },
    {
      "cell_type": "markdown",
      "metadata": {
        "id": "5yiZ6Ua4w5u2"
      },
      "source": [
        "## TF-IDF encoding\n",
        "\n",
        "With a large corpus of documents some words like ‘a’, ‘the’, ‘is’, etc. occur very frequently but they don’t carry a lot of information. Using one-hot encoding approach we can decide that these words are important because they appear in many documents. One of the ways to solve this problem is stopwords filtering, but this solution is discrete and not flexible.\n",
        "\n",
        "TF-IDF (term frequency - inverse document frequency) can deal with this problem better. TF-IDF lowers the weight of commonly used words and raises the weight of rare words that occur only in current document. TF-IDF formula looks like this:\n",
        "<br><br>\n",
        "\n",
        "$tfidf(term, document)= tf(term, document) \\cdot idf(term)$\n",
        "\n",
        "<br>\n",
        "Where TF is calculated by dividing number of times the word occurs in the document by the total number of words in the document\n",
        "\n",
        "$tf(term, document)= \\frac{n_i}{\\sum_{k=1}^W n_k}$\n",
        "\n",
        "IDF (inverse document frequency), interpreted like inversed number of documents, in which the term we’re interested in occurs. N - number of documents, n(t) - number of documents with current word or term t.\n",
        "\n",
        "\n",
        "$idf(term) = \\log {\\frac{N}{n_t}} $\n",
        "\n",
        "\n"
      ]
    },
    {
      "cell_type": "code",
      "metadata": {
        "id": "pRF9_B5lwURy"
      },
      "source": [
        "from sklearn.feature_extraction.text import TfidfVectorizer\n",
        "import seaborn as sns\n",
        "\n",
        "corpus = [\n",
        "          'Time flies like an arrow.',\n",
        "          'Fruit flies like a banana.'\n",
        "]\n",
        "\n",
        "vocab = ['an', 'arrow', 'banana', 'flies', 'fruit', 'like', 'time']"
      ],
      "execution_count": null,
      "outputs": []
    },
    {
      "cell_type": "code",
      "metadata": {
        "id": "uckXLvR0DKIm",
        "colab": {
          "base_uri": "https://localhost:8080/",
          "height": 86
        },
        "outputId": "3d974b25-6e63-4b06-f614-e380843a8f76"
      },
      "source": [
        "tfidf_vectorizer = TfidfVectorizer()\n",
        "tfidf = tfidf_vectorizer.fit_transform(corpus).toarray()\n",
        "tfidf"
      ],
      "execution_count": null,
      "outputs": [
        {
          "output_type": "execute_result",
          "data": {
            "text/plain": [
              "array([[0.49922133, 0.49922133, 0.        , 0.35520009, 0.        ,\n",
              "        0.35520009, 0.49922133],\n",
              "       [0.        , 0.        , 0.57615236, 0.40993715, 0.57615236,\n",
              "        0.40993715, 0.        ]])"
            ]
          },
          "metadata": {
            "tags": []
          },
          "execution_count": 15
        }
      ]
    },
    {
      "cell_type": "code",
      "metadata": {
        "id": "rI8h6WGCDgY_",
        "colab": {
          "base_uri": "https://localhost:8080/",
          "height": 282
        },
        "outputId": "d998e939-e3cc-4e9c-af5e-8f3cf068ff7f"
      },
      "source": [
        "sns.heatmap(tfidf, annot=True, cbar = False, xticklabels = vocab)"
      ],
      "execution_count": null,
      "outputs": [
        {
          "output_type": "execute_result",
          "data": {
            "text/plain": [
              "<matplotlib.axes._subplots.AxesSubplot at 0x7f99ba3e8978>"
            ]
          },
          "metadata": {
            "tags": []
          },
          "execution_count": 16
        },
        {
          "output_type": "display_data",
          "data": {
            "image/png": "[encoded data removed]",
            "text/plain": [
              "<Figure size 432x288 with 1 Axes>"
            ]
          },
          "metadata": {
            "tags": [],
            "needs_background": "light"
          }
        }
      ]
    },
    {
      "cell_type": "markdown",
      "metadata": {
        "id": "P8IxcZQGTGb6"
      },
      "source": [
        "## Word2Vec and GloVe"
      ]
    },
    {
      "cell_type": "markdown",
      "metadata": {
        "id": "pHdtizR4T1d_"
      },
      "source": [
        "The most commonly used models for word embeddings are [word2vec](https://github.com/dav/word2vec/) and [GloVe](https://nlp.stanford.edu/projects/glove/) which are both unsupervised approaches based on the distributional hypothesis (words that occur in the same contexts tend to have similar meanings).\n",
        "\n",
        "Word2Vec word embeddings are vector representations of words,\n",
        "that are typically learnt by an unsupervised model when fed\n",
        "with large amounts of text as input (e.g. Wikipedia, science, news, articles etc.). These representation of words capture semantic similarity between words among other properties. Word2Vec word embeddings are learnt in a such way, that [distance](https://en.wikipedia.org/wiki/Euclidean_distance) between vectors for words with close meanings (\"king\" and \"queen\" for example) are closer than distance for words with complety different meanings (\"king\" and \"carpet\" for example).\n",
        "\n",
        "![Замещающий текст](https://developers.google.com/machine-learning/crash-course/images/linear-relationships.svg)\n",
        "Image from [developers.google.com](https://developers.google.com/machine-learning/crash-course/embeddings/translating-to-a-lower-dimensional-space)\n",
        "\n",
        "Word2Vec vectors even allow some mathematic operations on vectors. For example, in this operation we are using word2vec vectors for each word:\n",
        "\n",
        "**king - man + woman = queen**"
      ]
    },
    {
      "cell_type": "code",
      "metadata": {
        "id": "dfo-brEm-STg",
        "colab": {
          "base_uri": "https://localhost:8080/",
          "height": 208
        },
        "outputId": "0ea5cabd-27b5-4a44-cce4-0b6a5c708da9"
      },
      "source": [
        "# Download Google Word2Vec embeddings https://code.google.com/archive/p/word2vec/\n",
        "\n",
        "!wget https://s3.amazonaws.com/dl4j-distribution/GoogleNews-vectors-negative300.bin.gz\n",
        "!gunzip GoogleNews-vectors-negative300.bin"
      ],
      "execution_count": null,
      "outputs": [
        {
          "output_type": "stream",
          "text": [
            "--2020-07-24 12:54:45--  https://s3.amazonaws.com/dl4j-distribution/GoogleNews-vectors-negative300.bin.gz\n",
            "Resolving s3.amazonaws.com (s3.amazonaws.com)... 52.216.136.77\n",
            "Connecting to s3.amazonaws.com (s3.amazonaws.com)|52.216.136.77|:443... connected.\n",
            "HTTP request sent, awaiting response... 200 OK\n",
            "Length: 1647046227 (1.5G) [application/x-gzip]\n",
            "Saving to: ‘GoogleNews-vectors-negative300.bin.gz’\n",
            "\n",
            "GoogleNews-vectors- 100%[===================>]   1.53G  45.3MB/s    in 36s     \n",
            "\n",
            "2020-07-24 12:55:21 (43.8 MB/s) - ‘GoogleNews-vectors-negative300.bin.gz’ saved [1647046227/1647046227]\n",
            "\n"
          ],
          "name": "stdout"
        }
      ]
    },
    {
      "cell_type": "code",
      "metadata": {
        "id": "AZ_HeKRI9_7l",
        "colab": {
          "base_uri": "https://localhost:8080/",
          "height": 72
        },
        "outputId": "39272fcd-4d7a-4fc4-d810-5a01879ee8cd"
      },
      "source": [
        "# Try Word2Vec with Gensim\n",
        "\n",
        "import gensim\n",
        "\n",
        "# Load pretrained vectors from Google\n",
        "model = gensim.models.KeyedVectors.load_word2vec_format('GoogleNews-vectors-negative300.bin', binary=True)"
      ],
      "execution_count": null,
      "outputs": [
        {
          "output_type": "stream",
          "text": [
            "/usr/local/lib/python3.6/dist-packages/smart_open/smart_open_lib.py:254: UserWarning: This function is deprecated, use smart_open.open instead. See the migration notes for details: https://github.com/RaRe-Technologies/smart_open/blob/master/README.rst#migrating-to-the-new-open-function\n",
            "  'See the migration notes for details: %s' % _MIGRATION_NOTES_URL\n"
          ],
          "name": "stderr"
        }
      ]
    },
    {
      "cell_type": "code",
      "metadata": {
        "id": "bT-yiT9L_c7b",
        "colab": {
          "base_uri": "https://localhost:8080/",
          "height": 69
        },
        "outputId": "c1ef95e5-d7d2-40de-a820-dc2bad0aa6ad"
      },
      "source": [
        "king = model['king']\n",
        "print(king.shape)\n",
        "print(king[:10])"
      ],
      "execution_count": null,
      "outputs": [
        {
          "output_type": "stream",
          "text": [
            "(300,)\n",
            "[ 0.12597656  0.02978516  0.00860596  0.13964844 -0.02563477 -0.03613281\n",
            "  0.11181641 -0.19824219  0.05126953  0.36328125]\n"
          ],
          "name": "stdout"
        }
      ]
    },
    {
      "cell_type": "code",
      "metadata": {
        "id": "JBznpSDbAAJx",
        "colab": {
          "base_uri": "https://localhost:8080/",
          "height": 89
        },
        "outputId": "7d18b770-5e98-4fb2-d1c0-b884f9d8d0d7"
      },
      "source": [
        "# king - man + woman = queen\n",
        "print(model.most_similar(positive=['woman', 'king'], negative=['man'])[:3])"
      ],
      "execution_count": null,
      "outputs": [
        {
          "output_type": "stream",
          "text": [
            "/usr/local/lib/python3.6/dist-packages/gensim/matutils.py:737: FutureWarning: Conversion of the second argument of issubdtype from `int` to `np.signedinteger` is deprecated. In future, it will be treated as `np.int64 == np.dtype(int).type`.\n",
            "  if np.issubdtype(vec.dtype, np.int):\n"
          ],
          "name": "stderr"
        },
        {
          "output_type": "stream",
          "text": [
            "[('queen', 0.7118192911148071), ('monarch', 0.6189674139022827), ('princess', 0.5902431011199951)]\n"
          ],
          "name": "stdout"
        }
      ]
    },
    {
      "cell_type": "code",
      "metadata": {
        "id": "3ckykNCjA-UP",
        "colab": {
          "base_uri": "https://localhost:8080/",
          "height": 124
        },
        "outputId": "112b63a6-ed2a-4483-a3ee-7f44cbceda7c"
      },
      "source": [
        "print(model.doesnt_match(\"breakfast robot dinner lunch\".split()))"
      ],
      "execution_count": null,
      "outputs": [
        {
          "output_type": "stream",
          "text": [
            "robot\n"
          ],
          "name": "stdout"
        },
        {
          "output_type": "stream",
          "text": [
            "/usr/local/lib/python3.6/dist-packages/gensim/models/keyedvectors.py:895: FutureWarning: arrays to stack must be passed as a \"sequence\" type such as list or tuple. Support for non-sequence iterables such as generators is deprecated as of NumPy 1.16 and will raise an error in the future.\n",
            "  vectors = vstack(self.word_vec(word, use_norm=True) for word in used_words).astype(REAL)\n",
            "/usr/local/lib/python3.6/dist-packages/gensim/matutils.py:737: FutureWarning: Conversion of the second argument of issubdtype from `int` to `np.signedinteger` is deprecated. In future, it will be treated as `np.int64 == np.dtype(int).type`.\n",
            "  if np.issubdtype(vec.dtype, np.int):\n"
          ],
          "name": "stderr"
        }
      ]
    },
    {
      "cell_type": "code",
      "metadata": {
        "id": "Pb121-XFBBc9",
        "colab": {
          "base_uri": "https://localhost:8080/",
          "height": 89
        },
        "outputId": "e79a6108-6203-4eaa-ec8c-6ab2d07dad8e"
      },
      "source": [
        "print(model.similarity('woman', 'man'))"
      ],
      "execution_count": null,
      "outputs": [
        {
          "output_type": "stream",
          "text": [
            "0.76640123\n"
          ],
          "name": "stdout"
        },
        {
          "output_type": "stream",
          "text": [
            "/usr/local/lib/python3.6/dist-packages/gensim/matutils.py:737: FutureWarning: Conversion of the second argument of issubdtype from `int` to `np.signedinteger` is deprecated. In future, it will be treated as `np.int64 == np.dtype(int).type`.\n",
            "  if np.issubdtype(vec.dtype, np.int):\n"
          ],
          "name": "stderr"
        }
      ]
    },
    {
      "cell_type": "code",
      "metadata": {
        "id": "YVL0I1qBBDcg",
        "colab": {
          "base_uri": "https://localhost:8080/",
          "height": 89
        },
        "outputId": "01a68671-ea28-480d-8ee7-02f6b3cde335"
      },
      "source": [
        "print(model.similarity('king', 'woman'))"
      ],
      "execution_count": null,
      "outputs": [
        {
          "output_type": "stream",
          "text": [
            "0.12847973\n"
          ],
          "name": "stdout"
        },
        {
          "output_type": "stream",
          "text": [
            "/usr/local/lib/python3.6/dist-packages/gensim/matutils.py:737: FutureWarning: Conversion of the second argument of issubdtype from `int` to `np.signedinteger` is deprecated. In future, it will be treated as `np.int64 == np.dtype(int).type`.\n",
            "  if np.issubdtype(vec.dtype, np.int):\n"
          ],
          "name": "stderr"
        }
      ]
    },
    {
      "cell_type": "markdown",
      "metadata": {
        "id": "NEFSugKAFXeB"
      },
      "source": [
        "Another word embedding method is **Glove** (“Global Vectors”). It is based on matrix factorization techniques on the word-context matrix. It first constructs a large matrix of (words x context) co-occurrence information, i.e. for each “word” (the rows), you count how frequently we see this word in some “context” (the columns) in a large corpus. Then this matrix is factorized to a lower-dimensional (word x features) matrix, where each row now stores a vector representation for each word. In general, this is done by minimizing a “reconstruction loss”. This loss tries to find the lower-dimensional representations which can explain most of the variance in the high-dimensional data."
      ]
    },
    {
      "cell_type": "code",
      "metadata": {
        "id": "27udJLwcbVLv",
        "colab": {
          "base_uri": "https://localhost:8080/",
          "height": 593
        },
        "outputId": "bfbad730-8876-4f99-d68f-912d03c8742b"
      },
      "source": [
        "# Try Glove word embeddings with Spacy\n",
        "\n",
        "!python3 -m spacy download en_core_web_lg"
      ],
      "execution_count": null,
      "outputs": [
        {
          "output_type": "stream",
          "text": [
            "Collecting en_core_web_lg==2.2.5\n",
            "\u001b[?25l  Downloading https://github.com/explosion/spacy-models/releases/download/en_core_web_lg-2.2.5/en_core_web_lg-2.2.5.tar.gz (827.9MB)\n",
            "\u001b[K     |████████████████████████████████| 827.9MB 1.1MB/s \n",
            "\u001b[?25hRequirement already satisfied: spacy>=2.2.2 in /usr/local/lib/python3.6/dist-packages (from en_core_web_lg==2.2.5) (2.2.4)\n",
            "Requirement already satisfied: srsly<1.1.0,>=1.0.2 in /usr/local/lib/python3.6/dist-packages (from spacy>=2.2.2->en_core_web_lg==2.2.5) (1.0.2)\n",
            "Requirement already satisfied: blis<0.5.0,>=0.4.0 in /usr/local/lib/python3.6/dist-packages (from spacy>=2.2.2->en_core_web_lg==2.2.5) (0.4.1)\n",
            "Requirement already satisfied: catalogue<1.1.0,>=0.0.7 in /usr/local/lib/python3.6/dist-packages (from spacy>=2.2.2->en_core_web_lg==2.2.5) (1.0.0)\n",
            "Requirement already satisfied: numpy>=1.15.0 in /usr/local/lib/python3.6/dist-packages (from spacy>=2.2.2->en_core_web_lg==2.2.5) (1.18.5)\n",
            "Requirement already satisfied: murmurhash<1.1.0,>=0.28.0 in /usr/local/lib/python3.6/dist-packages (from spacy>=2.2.2->en_core_web_lg==2.2.5) (1.0.2)\n",
            "Requirement already satisfied: tqdm<5.0.0,>=4.38.0 in /usr/local/lib/python3.6/dist-packages (from spacy>=2.2.2->en_core_web_lg==2.2.5) (4.41.1)\n",
            "Requirement already satisfied: cymem<2.1.0,>=2.0.2 in /usr/local/lib/python3.6/dist-packages (from spacy>=2.2.2->en_core_web_lg==2.2.5) (2.0.3)\n",
            "Requirement already satisfied: plac<1.2.0,>=0.9.6 in /usr/local/lib/python3.6/dist-packages (from spacy>=2.2.2->en_core_web_lg==2.2.5) (1.1.3)\n",
            "Requirement already satisfied: thinc==7.4.0 in /usr/local/lib/python3.6/dist-packages (from spacy>=2.2.2->en_core_web_lg==2.2.5) (7.4.0)\n",
            "Requirement already satisfied: setuptools in /usr/local/lib/python3.6/dist-packages (from spacy>=2.2.2->en_core_web_lg==2.2.5) (49.1.0)\n",
            "Requirement already satisfied: preshed<3.1.0,>=3.0.2 in /usr/local/lib/python3.6/dist-packages (from spacy>=2.2.2->en_core_web_lg==2.2.5) (3.0.2)\n",
            "Requirement already satisfied: wasabi<1.1.0,>=0.4.0 in /usr/local/lib/python3.6/dist-packages (from spacy>=2.2.2->en_core_web_lg==2.2.5) (0.7.1)\n",
            "Requirement already satisfied: requests<3.0.0,>=2.13.0 in /usr/local/lib/python3.6/dist-packages (from spacy>=2.2.2->en_core_web_lg==2.2.5) (2.23.0)\n",
            "Requirement already satisfied: importlib-metadata>=0.20; python_version < \"3.8\" in /usr/local/lib/python3.6/dist-packages (from catalogue<1.1.0,>=0.0.7->spacy>=2.2.2->en_core_web_lg==2.2.5) (1.7.0)\n",
            "Requirement already satisfied: chardet<4,>=3.0.2 in /usr/local/lib/python3.6/dist-packages (from requests<3.0.0,>=2.13.0->spacy>=2.2.2->en_core_web_lg==2.2.5) (3.0.4)\n",
            "Requirement already satisfied: urllib3!=1.25.0,!=1.25.1,<1.26,>=1.21.1 in /usr/local/lib/python3.6/dist-packages (from requests<3.0.0,>=2.13.0->spacy>=2.2.2->en_core_web_lg==2.2.5) (1.24.3)\n",
            "Requirement already satisfied: certifi>=2017.4.17 in /usr/local/lib/python3.6/dist-packages (from requests<3.0.0,>=2.13.0->spacy>=2.2.2->en_core_web_lg==2.2.5) (2020.6.20)\n",
            "Requirement already satisfied: idna<3,>=2.5 in /usr/local/lib/python3.6/dist-packages (from requests<3.0.0,>=2.13.0->spacy>=2.2.2->en_core_web_lg==2.2.5) (2.10)\n",
            "Requirement already satisfied: zipp>=0.5 in /usr/local/lib/python3.6/dist-packages (from importlib-metadata>=0.20; python_version < \"3.8\"->catalogue<1.1.0,>=0.0.7->spacy>=2.2.2->en_core_web_lg==2.2.5) (3.1.0)\n",
            "Building wheels for collected packages: en-core-web-lg\n",
            "  Building wheel for en-core-web-lg (setup.py) ... \u001b[?25l\u001b[?25hdone\n",
            "  Created wheel for en-core-web-lg: filename=en_core_web_lg-2.2.5-cp36-none-any.whl size=829180944 sha256=71f23fa6190b30d98a867203431231cf407f0b49982cdc0a9b75a0424c66772b\n",
            "  Stored in directory: /tmp/pip-ephem-wheel-cache-3xjaaj18/wheels/2a/c1/a6/fc7a877b1efca9bc6a089d6f506f16d3868408f9ff89f8dbfc\n",
            "Successfully built en-core-web-lg\n",
            "Installing collected packages: en-core-web-lg\n",
            "Successfully installed en-core-web-lg-2.2.5\n",
            "\u001b[38;5;2m✔ Download and installation successful\u001b[0m\n",
            "You can now load the model via spacy.load('en_core_web_lg')\n"
          ],
          "name": "stdout"
        }
      ]
    },
    {
      "cell_type": "code",
      "metadata": {
        "id": "LkURcwd5LJUp",
        "colab": {
          "base_uri": "https://localhost:8080/",
          "height": 208
        },
        "outputId": "ac9ea4c3-a754-4517-dc6c-e6d05d5651cc"
      },
      "source": [
        "import spacy\n",
        "# Load the spacy model that you have installed\n",
        "import en_core_web_lg\n",
        "nlp = en_core_web_lg.load()\n",
        "# process a sentence using the model\n",
        "doc = nlp(\"man king stands on the carpet and sees woman queen\")\n",
        "# Get the vector for 'king':\n",
        "doc[1].vector[0:50]"
      ],
      "execution_count": null,
      "outputs": [
        {
          "output_type": "execute_result",
          "data": {
            "text/plain": [
              "array([ 0.31542  , -0.35068  ,  0.42923  , -0.53825  , -0.1848   ,\n",
              "       -0.31082  ,  0.29196  , -0.7103   , -0.23867  ,  1.8471   ,\n",
              "       -0.36446  , -0.51282  ,  0.1221   ,  0.38909  , -0.073204 ,\n",
              "        0.035462 ,  0.33289  ,  0.66466  ,  0.027175 ,  0.42021  ,\n",
              "       -0.1452   ,  0.37991  , -0.6052   ,  0.10695  , -0.64716  ,\n",
              "       -0.010739 , -0.39754  ,  0.38857  , -0.20134  ,  0.69813  ,\n",
              "       -0.32411  ,  0.73085  , -0.1093   , -0.23511  ,  0.18482  ,\n",
              "       -0.11595  , -0.71003  , -0.22974  , -0.41979  ,  0.0081004,\n",
              "       -0.10504  , -0.44802  , -0.073928 , -0.4238   ,  0.28482  ,\n",
              "       -0.074517 ,  0.098161 ,  0.64602  , -0.25832  , -0.020452 ],\n",
              "      dtype=float32)"
            ]
          },
          "metadata": {
            "tags": []
          },
          "execution_count": 25
        }
      ]
    },
    {
      "cell_type": "markdown",
      "metadata": {
        "id": "hI-998SUfAx-"
      },
      "source": [
        "Find similarity between King and Queen (higher value is better)."
      ]
    },
    {
      "cell_type": "code",
      "metadata": {
        "id": "K34HpkmWaEqV",
        "colab": {
          "base_uri": "https://localhost:8080/",
          "height": 34
        },
        "outputId": "b984ce6c-f825-44a5-e2d4-41465396e7dc"
      },
      "source": [
        "doc[1].similarity(doc[9])"
      ],
      "execution_count": null,
      "outputs": [
        {
          "output_type": "execute_result",
          "data": {
            "text/plain": [
              "0.72526103"
            ]
          },
          "metadata": {
            "tags": []
          },
          "execution_count": 26
        }
      ]
    },
    {
      "cell_type": "markdown",
      "metadata": {
        "id": "FXm7aeh4hES5"
      },
      "source": [
        "Find similarity between King and carpet"
      ]
    },
    {
      "cell_type": "code",
      "metadata": {
        "id": "vSqwqBrUcwMB",
        "colab": {
          "base_uri": "https://localhost:8080/",
          "height": 34
        },
        "outputId": "db19cb1d-29c0-45a2-a556-78ecf3f72f8c"
      },
      "source": [
        "doc[1].similarity(doc[5])"
      ],
      "execution_count": null,
      "outputs": [
        {
          "output_type": "execute_result",
          "data": {
            "text/plain": [
              "0.20431946"
            ]
          },
          "metadata": {
            "tags": []
          },
          "execution_count": 27
        }
      ]
    },
    {
      "cell_type": "markdown",
      "metadata": {
        "id": "YHsyuyS3h65C"
      },
      "source": [
        "Check if king - man + woman = queen. We will multiply vectors for 'man' and 'woman' by two, because subtracting the vector for 'man' and adding the vector for 'woman' will do little to the original vector for “king”, likely because those “man” and “woman” are related themselves."
      ]
    },
    {
      "cell_type": "code",
      "metadata": {
        "id": "IXQ6uvkHh2bA"
      },
      "source": [
        "v =  doc[1].vector - (doc[0].vector*2) + (doc[8].vector*2)"
      ],
      "execution_count": null,
      "outputs": []
    },
    {
      "cell_type": "code",
      "metadata": {
        "id": "Bfd7cpLWi0FS"
      },
      "source": [
        "from scipy.spatial import distance\n",
        "import numpy as np\n",
        "\n",
        "# Format the vocabulary for use in the distance function\n",
        "vectors = [token.vector for token in doc]\n",
        "vectors = np.array(vectors)\n",
        "\n",
        "# Find the closest word below\n",
        "closest_index = distance.cdist(np.expand_dims(v, axis = 0), vectors, metric = 'cosine').argmin()\n",
        "output_word = doc[closest_index].text\n"
      ],
      "execution_count": null,
      "outputs": []
    },
    {
      "cell_type": "code",
      "metadata": {
        "id": "AjVLpbCG9829",
        "colab": {
          "base_uri": "https://localhost:8080/",
          "height": 36
        },
        "outputId": "5c6f0e75-ccb5-451b-d6ad-b55d0314eb98"
      },
      "source": [
        "output_word"
      ],
      "execution_count": null,
      "outputs": [
        {
          "output_type": "execute_result",
          "data": {
            "application/vnd.google.colaboratory.intrinsic+json": {
              "type": "string"
            },
            "text/plain": [
              "'queen'"
            ]
          },
          "metadata": {
            "tags": []
          },
          "execution_count": 30
        }
      ]
    },
    {
      "cell_type": "markdown",
      "metadata": {
        "id": "wwntpvV54Mc4"
      },
      "source": [
        "## FastText\n",
        "\n",
        "[FastText](https://github.com/facebookresearch/fastText) is an extension of word2vec. FastText was developed by the team of Tomas Mikolov who proposed the word2vec framework in 2013.\n",
        "\n",
        "The main improvement of FastText over the original word2vec vectors is the inclusion of character [n-grams](https://en.wikipedia.org/wiki/N-gram), which allows computing word representations for words that did not appear in the training data (“out-of-vocabulary” words)."
      ]
    },
    {
      "cell_type": "code",
      "metadata": {
        "id": "s8sfT_Z24MDw",
        "colab": {
          "base_uri": "https://localhost:8080/",
          "height": 159
        },
        "outputId": "4ea00fbf-2b88-4e0d-e649-4be21f02be40"
      },
      "source": [
        "!pip install Cython --install-option=\"--no-cython-compile\"\n",
        "!pip install fasttext"
      ],
      "execution_count": null,
      "outputs": [
        {
          "output_type": "stream",
          "text": [
            "/usr/local/lib/python3.6/dist-packages/pip/_internal/commands/install.py:283: UserWarning: Disabling all use of wheels due to the use of --build-options / --global-options / --install-options.\n",
            "  cmdoptions.check_install_build_global(options)\n",
            "Requirement already satisfied: Cython in /usr/local/lib/python3.6/dist-packages (0.29.21)\n",
            "Requirement already satisfied: fasttext in /usr/local/lib/python3.6/dist-packages (0.9.2)\n",
            "Requirement already satisfied: numpy in /usr/local/lib/python3.6/dist-packages (from fasttext) (1.18.5)\n",
            "Requirement already satisfied: setuptools>=0.7.0 in /usr/local/lib/python3.6/dist-packages (from fasttext) (49.1.0)\n",
            "Requirement already satisfied: pybind11>=2.2 in /usr/local/lib/python3.6/dist-packages (from fasttext) (2.5.0)\n"
          ],
          "name": "stdout"
        }
      ]
    },
    {
      "cell_type": "code",
      "metadata": {
        "id": "gu6wVBQ89-kd",
        "colab": {
          "base_uri": "https://localhost:8080/",
          "height": 34
        },
        "outputId": "14290f95-3f78-4635-e38d-4e5a9127b1f8"
      },
      "source": [
        "# download pre-trained language word vectors from one of 157 languges  https://fasttext.cc/docs/en/crawl-vectors.html\n",
        "# it will take some time, about 5 minutes\n",
        "import fasttext\n",
        "import fasttext.util\n",
        "fasttext.util.download_model('en', if_exists='ignore')  # English\n",
        "ft = fasttext.load_model('cc.en.300.bin')\n"
      ],
      "execution_count": null,
      "outputs": [
        {
          "output_type": "stream",
          "text": [
            "Warning : `load_model` does not return WordVectorModel or SupervisedModel any more, but a `FastText` object which is very similar.\n"
          ],
          "name": "stderr"
        }
      ]
    },
    {
      "cell_type": "code",
      "metadata": {
        "id": "FnJKqcnl7l_L",
        "colab": {
          "base_uri": "https://localhost:8080/",
          "height": 34
        },
        "outputId": "3fbb336f-766a-4549-e49a-382b5bb51f5b"
      },
      "source": [
        "ft.get_word_vector('king').shape"
      ],
      "execution_count": null,
      "outputs": [
        {
          "output_type": "execute_result",
          "data": {
            "text/plain": [
              "(300,)"
            ]
          },
          "metadata": {
            "tags": []
          },
          "execution_count": 3
        }
      ]
    },
    {
      "cell_type": "markdown",
      "metadata": {
        "id": "b3Dv2Fun_ExK"
      },
      "source": [
        "Test model ability to create vectors for unknown words."
      ]
    },
    {
      "cell_type": "code",
      "metadata": {
        "id": "1Om1eNJ-_h-J",
        "colab": {
          "base_uri": "https://localhost:8080/",
          "height": 34
        },
        "outputId": "dd36b8bf-a149-4a28-d758-1b0be5c2d378"
      },
      "source": [
        "'king' in ft.words"
      ],
      "execution_count": null,
      "outputs": [
        {
          "output_type": "execute_result",
          "data": {
            "text/plain": [
              "True"
            ]
          },
          "metadata": {
            "tags": []
          },
          "execution_count": 4
        }
      ]
    },
    {
      "cell_type": "code",
      "metadata": {
        "id": "etfyb0xl--1M",
        "colab": {
          "base_uri": "https://localhost:8080/",
          "height": 34
        },
        "outputId": "cc2152cb-83f1-4054-9395-65ea8549d475"
      },
      "source": [
        "'burgerking' in ft.words"
      ],
      "execution_count": null,
      "outputs": [
        {
          "output_type": "execute_result",
          "data": {
            "text/plain": [
              "True"
            ]
          },
          "metadata": {
            "tags": []
          },
          "execution_count": 5
        }
      ]
    },
    {
      "cell_type": "code",
      "metadata": {
        "id": "kMR5VDgd_Pfg",
        "colab": {
          "base_uri": "https://localhost:8080/",
          "height": 34
        },
        "outputId": "be006021-6626-423c-82bb-152afa617a2a"
      },
      "source": [
        "'king-warrior' in ft.words"
      ],
      "execution_count": null,
      "outputs": [
        {
          "output_type": "execute_result",
          "data": {
            "text/plain": [
              "False"
            ]
          },
          "metadata": {
            "tags": []
          },
          "execution_count": 6
        }
      ]
    },
    {
      "cell_type": "code",
      "metadata": {
        "id": "UTLZvg5e_cBQ",
        "colab": {
          "base_uri": "https://localhost:8080/",
          "height": 191
        },
        "outputId": "f53789e5-9f5f-4769-8660-86f21c949678"
      },
      "source": [
        "ft.get_nearest_neighbors('king')"
      ],
      "execution_count": null,
      "outputs": [
        {
          "output_type": "execute_result",
          "data": {
            "text/plain": [
              "[(0.7550359964370728, 'kings'),\n",
              " (0.7068519592285156, 'queen'),\n",
              " (0.7060439586639404, 'king-'),\n",
              " (0.6811205148696899, 'king.'),\n",
              " (0.660710871219635, 'king.The'),\n",
              " (0.6591265797615051, 'King'),\n",
              " (0.6495252251625061, 'prince'),\n",
              " (0.6278106570243835, '-king'),\n",
              " (0.6183920502662659, 'monarch'),\n",
              " (0.6070184707641602, 'queen-mother')]"
            ]
          },
          "metadata": {
            "tags": []
          },
          "execution_count": 7
        }
      ]
    },
    {
      "cell_type": "code",
      "metadata": {
        "id": "D7S0lXL0_1D7",
        "colab": {
          "base_uri": "https://localhost:8080/",
          "height": 191
        },
        "outputId": "91aeb714-c0cc-4908-bcf8-1a31a0b89f83"
      },
      "source": [
        "ft.get_nearest_neighbors('burgerking')"
      ],
      "execution_count": null,
      "outputs": [
        {
          "output_type": "execute_result",
          "data": {
            "text/plain": [
              "[(0.6571484208106995, 'mcdonalds'),\n",
              " (0.643631100654602, 'tacobell'),\n",
              " (0.6353889107704163, 'macdonalds'),\n",
              " (0.6343632340431213, 'Mcdonalds'),\n",
              " (0.6275104284286499, 'mcds'),\n",
              " (0.6220166087150574, 'pizzahut'),\n",
              " (0.6129778623580933, 'arbys'),\n",
              " (0.6086134314537048, 'BurgerKing'),\n",
              " (0.592319667339325, 'applebees'),\n",
              " (0.5817458629608154, 'wendys')]"
            ]
          },
          "metadata": {
            "tags": []
          },
          "execution_count": 8
        }
      ]
    },
    {
      "cell_type": "code",
      "metadata": {
        "id": "08DO8xhs_81M",
        "colab": {
          "base_uri": "https://localhost:8080/",
          "height": 332
        },
        "outputId": "f1187170-314b-4e1a-aff1-5d37cd4d5581"
      },
      "source": [
        "ft.get_nearest_neighbors('king-warrior')"
      ],
      "execution_count": null,
      "outputs": [
        {
          "output_type": "execute_result",
          "data": {
            "text/plain": [
              "[(0.43609192967414856,\n",
              "  'strachanenlightenmententrepreneursentrepreneurshipenvironmentalismEric'),\n",
              " (0.4255003333091736, 'hunter-warrior'),\n",
              " (0.39559242129325867, 'NinjaPirateZombieRobot'),\n",
              " (0.3859368860721588,\n",
              "  'deblogueroreflejoantecedentesexitlacuachebateysuteindesignableabsorbersexilatifundiosexibrezarsutemultiétnicosexiplinrapobrezarcorrentosoVd.lazadafisiochillidomabrezarsico-chuzaoutcolodrablogueroin'),\n",
              " (0.3846653997898102,\n",
              "  'ResultsLadderTeamsBluesBrumbiesBullsCheetahsChiefsCrusadersForceHighlandersHurricanesJaguaresKingsLionsRebelsRedsSharksStormersSunwolvesWaratahsPlayersTippingFantasyRugby'),\n",
              " (0.37958475947380066,\n",
              "  'FriendsHungryForAppsSharewareOnSaleDonationCoderGhacks'),\n",
              " (0.3776894211769104,\n",
              "  'ESTATERETAILCONSUMERPHONESCARSBIKESAPPSINTERNETTABLETSCOMPUTERSSOCIETYPOLITICSLAWCRIMEENVIRONMENTSCIENCEARTSCELEBRITIESSPORTSSPECIALSFIRST'),\n",
              " (0.37076932191848755,\n",
              "  'ResultsTeamsBroncosBulldogsCowboysDragonsEelsKnightsPanthersRabbitohsRaidersRoostersSea-EaglesSharksStormTigersTitansWarriorsPlayer'),\n",
              " (0.3690166175365448, 'racepro-lifeprofessorsproverbspsychologypublic'),\n",
              " (0.3687925338745117,\n",
              "  'videoAnglicansAtheistsBibleBishopsBloggingBooksBrooklynChaplainsChurchesCNEWAConvertsDeaconsEastern')]"
            ]
          },
          "metadata": {
            "tags": []
          },
          "execution_count": 9
        }
      ]
    },
    {
      "cell_type": "markdown",
      "metadata": {
        "id": "lvE181s7EVO3"
      },
      "source": [
        "## ELMo (Embeddings from Language Models)\n",
        "\n",
        "Unlike traditional word embeddings such as word2vec and GLoVe, the ELMo vector assigned to a token or word depends on current context and is actually a function of the entire sentence containing that word. So, the same word can have different word vectors under different contexts. Also,  ELMo representations are purely character based, so they are not limited to any predefined vocabulary.\n",
        "\n",
        "Description from official site:\n",
        "\n",
        "**[ELMo](https://allennlp.org/elmo)** is a deep contextualized word representation that models both (1) complex characteristics of word use (e.g., syntax and semantics), and (2) how these uses vary across linguistic contexts (i.e., to model polysemy). These word vectors are learned functions of the internal states of a deep bidirectional language model (biLM), which is pre-trained on a large text corpus. They can be easily added to existing models and significantly improve the state of the art across a broad range of challenging NLP problems, including question answering, textual entailment and sentiment analysis."
      ]
    },
    {
      "cell_type": "code",
      "metadata": {
        "id": "3ZBZdmGyRAHd",
        "colab": {
          "base_uri": "https://localhost:8080/",
          "height": 34
        },
        "outputId": "965b2db3-9162-4d83-a54f-a9254ff5e569"
      },
      "source": [
        "# use tensorflow 1.x for ELMo, because trere are still no ELMo for tensorflow 2.0\n",
        "\n",
        "%tensorflow_version 1.x"
      ],
      "execution_count": null,
      "outputs": [
        {
          "output_type": "stream",
          "text": [
            "TensorFlow 1.x selected.\n"
          ],
          "name": "stdout"
        }
      ]
    },
    {
      "cell_type": "code",
      "metadata": {
        "id": "T5vfQ_W2ABqG"
      },
      "source": [
        "import tensorflow_hub as hub\n",
        "import tensorflow as tf"
      ],
      "execution_count": null,
      "outputs": []
    },
    {
      "cell_type": "code",
      "metadata": {
        "id": "cud78zEfKJNy"
      },
      "source": [
        "# Download pretrained ELMo model from Tensorflow Hub https://tfhub.dev/google/elmo/3\n",
        "\n",
        "elmo = hub.Module(\"https://tfhub.dev/google/elmo/3\", trainable=True)"
      ],
      "execution_count": null,
      "outputs": []
    },
    {
      "cell_type": "code",
      "metadata": {
        "id": "GW5eWPqCKOFz",
        "colab": {
          "base_uri": "https://localhost:8080/",
          "height": 106
        },
        "outputId": "4ba44ce9-9816-4623-f300-d441dfaaf8f1"
      },
      "source": [
        "sentences =  \\\n",
        "['king arthur, also called arthur or aathur pendragon, legendary british king who appears in a cycle of \\\n",
        "medieval romances (known as the matter of britain) as the sovereign of a knightly fellowship of the round table.',\n",
        "'it is not certain how these legends originated or whether the figure of arthur was based on a historical person.',\n",
        "'the legend possibly originated either in wales or in those parts of northern britain inhabited by brythonic-speaking celts.',\n",
        "'for a fuller treatment of the stories about king arthur, see also arthurian legend.']\n",
        "\n",
        "sentences"
      ],
      "execution_count": null,
      "outputs": [
        {
          "output_type": "execute_result",
          "data": {
            "text/plain": [
              "['king arthur, also called arthur or aathur pendragon, legendary british king who appears in a cycle of medieval romances (known as the matter of britain) as the sovereign of a knightly fellowship of the round table.',\n",
              " 'it is not certain how these legends originated or whether the figure of arthur was based on a historical person.',\n",
              " 'the legend possibly originated either in wales or in those parts of northern britain inhabited by brythonic-speaking celts.',\n",
              " 'for a fuller treatment of the stories about king arthur, see also arthurian legend.']"
            ]
          },
          "metadata": {
            "tags": []
          },
          "execution_count": 13
        }
      ]
    },
    {
      "cell_type": "markdown",
      "metadata": {
        "id": "2J2HsCMlCPk6"
      },
      "source": [
        "In order to send sentences to the model we need to split them into the arrays of words and pad arrays to the same length. Also we will create 'mask' array, that will show whether element is a real word or a padding symbol (in our case - '_'). We will use 'mask' array for visualization later, to show only real words."
      ]
    },
    {
      "cell_type": "code",
      "metadata": {
        "id": "in6aekmEUMsZ"
      },
      "source": [
        "words = []\n",
        "mask = []\n",
        "masked_words = []\n",
        "\n",
        "for sent in sentences:\n",
        "  splitted = sent.split()\n",
        "  for i in range(36):\n",
        "    try:\n",
        "      words.append(splitted[i])\n",
        "    except:\n",
        "      words.append('_')\n",
        "\n",
        "for word in words:\n",
        "  if word == \"_\":\n",
        "    mask.append(False)\n",
        "  else:\n",
        "    mask.append(True)\n",
        "    masked_words.append(word)\n"
      ],
      "execution_count": null,
      "outputs": []
    },
    {
      "cell_type": "code",
      "metadata": {
        "id": "ruJQINKCBHhL",
        "colab": {
          "base_uri": "https://localhost:8080/",
          "height": 34
        },
        "outputId": "e829a9bb-2402-4ed6-edf9-fbb9dd9ea111"
      },
      "source": [
        "len(masked_words)"
      ],
      "execution_count": null,
      "outputs": [
        {
          "output_type": "execute_result",
          "data": {
            "text/plain": [
              "88"
            ]
          },
          "metadata": {
            "tags": []
          },
          "execution_count": 15
        }
      ]
    },
    {
      "cell_type": "markdown",
      "metadata": {
        "id": "qkDSfBYdJFC_"
      },
      "source": [
        "Create embeddings with ELMo:"
      ]
    },
    {
      "cell_type": "code",
      "metadata": {
        "id": "LoEjgebFMopG",
        "colab": {
          "base_uri": "https://localhost:8080/",
          "height": 52
        },
        "outputId": "d5859834-f96c-4ae7-984c-56691ad0cd2f"
      },
      "source": [
        "embeddings = elmo(\n",
        "    sentences,\n",
        "    signature=\"default\",\n",
        "    as_dict=True)[\"elmo\"]"
      ],
      "execution_count": null,
      "outputs": [
        {
          "output_type": "stream",
          "text": [
            "INFO:tensorflow:Saver not created because there are no variables in the graph to restore\n"
          ],
          "name": "stdout"
        },
        {
          "output_type": "stream",
          "text": [
            "INFO:tensorflow:Saver not created because there are no variables in the graph to restore\n"
          ],
          "name": "stderr"
        }
      ]
    },
    {
      "cell_type": "markdown",
      "metadata": {
        "id": "ZO-fH5ewJLQq"
      },
      "source": [
        "Convert Tensorflow tensors to numpy array."
      ]
    },
    {
      "cell_type": "code",
      "metadata": {
        "id": "QrfigfFxNef1",
        "colab": {
          "base_uri": "https://localhost:8080/",
          "height": 52
        },
        "outputId": "cbb1b586-5826-4d83-ee4b-66d2cbd3b580"
      },
      "source": [
        "%%time\n",
        "with tf.Session() as sess:\n",
        "  sess.run(tf.global_variables_initializer())\n",
        "  sess.run(tf.tables_initializer())\n",
        "  x = sess.run(embeddings)"
      ],
      "execution_count": null,
      "outputs": [
        {
          "output_type": "stream",
          "text": [
            "CPU times: user 4.84 s, sys: 540 ms, total: 5.38 s\n",
            "Wall time: 3.53 s\n"
          ],
          "name": "stdout"
        }
      ]
    },
    {
      "cell_type": "code",
      "metadata": {
        "id": "iUSvgkuZOILL",
        "colab": {
          "base_uri": "https://localhost:8080/",
          "height": 34
        },
        "outputId": "35d208a7-5482-4117-c37e-dbbb7fd9cb75"
      },
      "source": [
        "x.shape"
      ],
      "execution_count": null,
      "outputs": [
        {
          "output_type": "execute_result",
          "data": {
            "text/plain": [
              "(4, 36, 1024)"
            ]
          },
          "metadata": {
            "tags": []
          },
          "execution_count": 18
        }
      ]
    },
    {
      "cell_type": "code",
      "metadata": {
        "id": "Nf_0UouAS4-i",
        "colab": {
          "base_uri": "https://localhost:8080/",
          "height": 34
        },
        "outputId": "aa4be247-5da9-4370-a643-edfe81f3e37b"
      },
      "source": [
        "embs = x.reshape(-1, 1024)\n",
        "embs.shape"
      ],
      "execution_count": null,
      "outputs": [
        {
          "output_type": "execute_result",
          "data": {
            "text/plain": [
              "(144, 1024)"
            ]
          },
          "metadata": {
            "tags": []
          },
          "execution_count": 19
        }
      ]
    },
    {
      "cell_type": "code",
      "metadata": {
        "id": "k7XZpPesCquG",
        "colab": {
          "base_uri": "https://localhost:8080/",
          "height": 34
        },
        "outputId": "899ea5cd-c666-4024-f852-e05d731c7ea8"
      },
      "source": [
        "masked_embs = embs[mask]\n",
        "masked_embs.shape"
      ],
      "execution_count": null,
      "outputs": [
        {
          "output_type": "execute_result",
          "data": {
            "text/plain": [
              "(88, 1024)"
            ]
          },
          "metadata": {
            "tags": []
          },
          "execution_count": 20
        }
      ]
    },
    {
      "cell_type": "markdown",
      "metadata": {
        "id": "bubmY1JNSNyy"
      },
      "source": [
        "Visualize embeddings using PCA"
      ]
    },
    {
      "cell_type": "code",
      "metadata": {
        "id": "Cg7utRgbSBA2"
      },
      "source": [
        "from sklearn.decomposition import PCA\n",
        "\n",
        "pca = PCA(n_components=10)\n",
        "y = pca.fit_transform(masked_embs)\n",
        "\n",
        "from sklearn.manifold import TSNE\n",
        "\n",
        "y = TSNE(n_components=2).fit_transform(y)"
      ],
      "execution_count": null,
      "outputs": []
    },
    {
      "cell_type": "code",
      "metadata": {
        "id": "efqZ1Xy2STHm"
      },
      "source": [
        "import plotly as py\n",
        "import plotly.graph_objs as go\n",
        "\n",
        "\n",
        "data = [\n",
        "    go.Scatter(\n",
        "        x=[i[0] for i in y],\n",
        "        y=[i[1] for i in y],\n",
        "        mode='markers',\n",
        "        text=[i for i in masked_words],\n",
        "    marker=dict(\n",
        "        size=16,\n",
        "        color = [len(i) for i in masked_words], #set color equal to a variable\n",
        "        opacity= 0.8,\n",
        "        colorscale='Viridis',\n",
        "        showscale=False\n",
        "    )\n",
        "    )\n",
        "]\n",
        "layout = go.Layout()\n",
        "layout = dict(\n",
        "              yaxis = dict(zeroline = False),\n",
        "              xaxis = dict(zeroline = False)\n",
        "             )\n",
        "fig = go.Figure(data=data, layout=layout)"
      ],
      "execution_count": null,
      "outputs": []
    },
    {
      "cell_type": "code",
      "metadata": {
        "id": "BU7uQvt7GWo-",
        "colab": {
          "base_uri": "https://localhost:8080/",
          "height": 542
        },
        "outputId": "a8dd6956-dd85-4bfe-e6bf-14ce2d48f28b"
      },
      "source": [
        "fig.show()"
      ],
      "execution_count": null,
      "outputs": [
        {
          "output_type": "display_data",
          "data": {
            "text/html": [
              "<html>\n",
              "<head><meta charset=\"utf-8\" /></head>\n",
              "<body>\n",
              "    <div>\n",
              "            <script src=\"https://cdnjs.cloudflare.com/ajax/libs/mathjax/2.7.5/MathJax.js?config=TeX-AMS-MML_SVG\"></script><script type=\"text/javascript\">if (window.MathJax) {MathJax.Hub.Config({SVG: {font: \"STIX-Web\"}});}</script>\n",
              "                <script type=\"text/javascript\">window.PlotlyConfig = {MathJaxConfig: 'local'};</script>\n",
              "        <script src=\"https://cdn.plot.ly/plotly-latest.min.js\"></script>    \n",
              "            <div id=\"8df3b0dd-bd8d-4146-b8c7-b4e9a84a0684\" class=\"plotly-graph-div\" style=\"height:525px; width:100%;\"></div>\n",
              "            <script type=\"text/javascript\">\n",
              "                \n",
              "                    window.PLOTLYENV=window.PLOTLYENV || {};\n",
              "                    \n",
              "                if (document.getElementById(\"8df3b0dd-bd8d-4146-b8c7-b4e9a84a0684\")) {\n",
              "                    Plotly.newPlot(\n",
              "                        '8df3b0dd-bd8d-4146-b8c7-b4e9a84a0684',\n",
              "                        [{\"marker\": {\"color\": [4, 7, 4, 6, 6, 2, 6, 10, 9, 7, 4, 3, 7, 2, 1, 5, 2, 8, 8, 6, 2, 3, 6, 2, 8, 2, 3, 9, 2, 1, 8, 10, 2, 3, 5, 6, 2, 2, 3, 7, 3, 5, 7, 10, 2, 7, 3, 6, 2, 6, 3, 5, 2, 1, 10, 7, 3, 6, 8, 10, 6, 2, 5, 2, 2, 5, 5, 2, 8, 7, 9, 2, 18, 6, 3, 1, 6, 9, 2, 3, 7, 5, 4, 7, 3, 4, 9, 7], \"colorscale\": [[0.0, \"#440154\"], [0.1111111111111111, \"#482878\"], [0.2222222222222222, \"#3e4989\"], [0.3333333333333333, \"#31688e\"], [0.4444444444444444, \"#26828e\"], [0.5555555555555556, \"#1f9e89\"], [0.6666666666666666, \"#35b779\"], [0.7777777777777778, \"#6ece58\"], [0.8888888888888888, \"#b5de2b\"], [1.0, \"#fde725\"]], \"opacity\": 0.8, \"showscale\": false, \"size\": 16}, \"mode\": \"markers\", \"text\": [\"king\", \"arthur,\", \"also\", \"called\", \"arthur\", \"or\", \"aathur\", \"pendragon,\", \"legendary\", \"british\", \"king\", \"who\", \"appears\", \"in\", \"a\", \"cycle\", \"of\", \"medieval\", \"romances\", \"(known\", \"as\", \"the\", \"matter\", \"of\", \"britain)\", \"as\", \"the\", \"sovereign\", \"of\", \"a\", \"knightly\", \"fellowship\", \"of\", \"the\", \"round\", \"table.\", \"it\", \"is\", \"not\", \"certain\", \"how\", \"these\", \"legends\", \"originated\", \"or\", \"whether\", \"the\", \"figure\", \"of\", \"arthur\", \"was\", \"based\", \"on\", \"a\", \"historical\", \"person.\", \"the\", \"legend\", \"possibly\", \"originated\", \"either\", \"in\", \"wales\", \"or\", \"in\", \"those\", \"parts\", \"of\", \"northern\", \"britain\", \"inhabited\", \"by\", \"brythonic-speaking\", \"celts.\", \"for\", \"a\", \"fuller\", \"treatment\", \"of\", \"the\", \"stories\", \"about\", \"king\", \"arthur,\", \"see\", \"also\", \"arthurian\", \"legend.\"], \"type\": \"scatter\", \"x\": [0.41210001707077026, 0.16856873035430908, -0.9346179366111755, -1.2107985019683838, -0.5519995093345642, -1.1851505041122437, -0.48707231879234314, -0.4197627902030945, -0.14709356427192688, -0.1313914805650711, 0.03481362387537956, -1.595349669456482, -2.1187100410461426, -3.0670156478881836, 2.4406158924102783, 2.646681070327759, -3.8184311389923096, 0.3785867393016815, 1.4990894794464111, -1.659199833869934, -2.6662468910217285, 2.3300583362579346, 3.6224722862243652, -4.129705905914307, 1.5929350852966309, -2.5977485179901123, 2.70646333694458, 2.3741674423217773, -4.711695194244385, 3.3402366638183594, 2.561197519302368, 2.5904629230499268, -4.620512008666992, 3.3115992546081543, 2.8636772632598877, 6.8428802490234375, -0.2317529320716858, -0.9603851437568665, -1.0134024620056152, -0.4363984763622284, 0.3216626048088074, 1.1067835092544556, 3.5748684406280518, -6.673468112945557, -3.2302420139312744, 0.4668300151824951, 1.3408669233322144, 3.2647416591644287, -3.656322717666626, 0.510547935962677, -3.3567965030670166, -4.412590026855469, -3.8549554347991943, 2.073336362838745, 0.5783870220184326, 6.828091621398926, 0.8170522451400757, 3.4537429809570312, -3.760432004928589, -6.589444160461426, -5.239609718322754, -5.392632484436035, -3.3525309562683105, -5.701033592224121, -5.469233989715576, -4.476229190826416, -4.1920671463012695, -5.824431419372559, -3.8241145610809326, -3.2284274101257324, -5.711629867553711, -5.024847507476807, -2.628439426422119, 6.823374271392822, -1.3461105823516846, 0.4766392707824707, 0.4945864975452423, 0.4913124740123749, -1.9969805479049683, -0.13832953572273254, 0.8112277984619141, -1.641340970993042, 0.5785964727401733, 0.7818183302879333, -1.1115912199020386, -0.9541998505592346, 0.7594422101974487, 6.839396953582764], \"y\": [-1.3007562160491943, 0.43276289105415344, 4.723144054412842, 4.123634338378906, 0.9832426905632019, 3.1039559841156006, 0.7318893671035767, 0.33999574184417725, 1.3465256690979004, 0.06793642789125443, -1.0552581548690796, 4.384794235229492, 4.866325855255127, 6.552412509918213, 6.9441819190979, 2.843627452850342, 7.477388381958008, 2.5772171020507812, 2.85786771774292, 5.206407070159912, 6.1940107345581055, 6.641654014587402, 2.634871244430542, 7.935760498046875, 3.423670530319214, 6.144289970397949, 6.620800971984863, 4.229517459869385, 8.466382026672363, 6.386110782623291, 4.279930114746094, 3.658048391342163, 8.1876802444458, 6.594329357147217, 3.907144546508789, 4.940546035766602, 7.114902973175049, 7.01444673538208, 7.3055548667907715, 7.731413841247559, 8.45400333404541, 8.766210556030273, 0.8307616710662842, 3.057466983795166, 4.707949161529541, 8.015393257141113, 8.081940650939941, 1.4650630950927734, 7.703039646148682, 1.570391058921814, 4.9389448165893555, 4.130980014801025, 6.329981803894043, 7.418156147003174, 3.221735715866089, 4.981595039367676, 8.515816688537598, 1.000065803527832, 4.285880088806152, 3.1737444400787354, 4.424729347229004, 5.422244548797607, 1.2320315837860107, 4.687435626983643, 5.657644271850586, 2.2401299476623535, 1.5606796741485596, 6.377060890197754, 0.9491952061653137, 1.3414872884750366, 4.312410354614258, 6.00209379196167, 1.7030752897262573, 4.992663860321045, 8.654529571533203, 9.974198341369629, 11.158977508544922, 11.310213088989258, 9.400076866149902, 9.32914924621582, 5.582316875457764, 9.149798393249512, -1.417651891708374, 0.5659083127975464, 5.920724391937256, 5.68674898147583, 1.0198122262954712, 4.941398620605469]}],\n",
              "                        {\"template\": {\"data\": {\"bar\": [{\"error_x\": {\"color\": \"#2a3f5f\"}, \"error_y\": {\"color\": \"#2a3f5f\"}, \"marker\": {\"line\": {\"color\": \"#E5ECF6\", \"width\": 0.5}}, \"type\": \"bar\"}], \"barpolar\": [{\"marker\": {\"line\": {\"color\": \"#E5ECF6\", \"width\": 0.5}}, \"type\": \"barpolar\"}], \"carpet\": [{\"aaxis\": {\"endlinecolor\": \"#2a3f5f\", \"gridcolor\": \"white\", \"linecolor\": \"white\", \"minorgridcolor\": \"white\", \"startlinecolor\": \"#2a3f5f\"}, \"baxis\": {\"endlinecolor\": \"#2a3f5f\", \"gridcolor\": \"white\", \"linecolor\": \"white\", \"minorgridcolor\": \"white\", \"startlinecolor\": \"#2a3f5f\"}, \"type\": \"carpet\"}], \"choropleth\": [{\"colorbar\": {\"outlinewidth\": 0, \"ticks\": \"\"}, \"type\": \"choropleth\"}], \"contour\": [{\"colorbar\": {\"outlinewidth\": 0, \"ticks\": \"\"}, \"colorscale\": [[0.0, \"#0d0887\"], [0.1111111111111111, \"#46039f\"], [0.2222222222222222, \"#7201a8\"], [0.3333333333333333, \"#9c179e\"], [0.4444444444444444, \"#bd3786\"], [0.5555555555555556, \"#d8576b\"], [0.6666666666666666, \"#ed7953\"], [0.7777777777777778, \"#fb9f3a\"], [0.8888888888888888, \"#fdca26\"], [1.0, \"#f0f921\"]], \"type\": \"contour\"}], \"contourcarpet\": [{\"colorbar\": {\"outlinewidth\": 0, \"ticks\": \"\"}, \"type\": \"contourcarpet\"}], \"heatmap\": [{\"colorbar\": {\"outlinewidth\": 0, \"ticks\": \"\"}, \"colorscale\": [[0.0, \"#0d0887\"], [0.1111111111111111, \"#46039f\"], [0.2222222222222222, \"#7201a8\"], [0.3333333333333333, \"#9c179e\"], [0.4444444444444444, \"#bd3786\"], [0.5555555555555556, \"#d8576b\"], [0.6666666666666666, \"#ed7953\"], [0.7777777777777778, \"#fb9f3a\"], [0.8888888888888888, \"#fdca26\"], [1.0, \"#f0f921\"]], \"type\": \"heatmap\"}], \"heatmapgl\": [{\"colorbar\": {\"outlinewidth\": 0, \"ticks\": \"\"}, \"colorscale\": [[0.0, \"#0d0887\"], [0.1111111111111111, \"#46039f\"], [0.2222222222222222, \"#7201a8\"], [0.3333333333333333, \"#9c179e\"], [0.4444444444444444, \"#bd3786\"], [0.5555555555555556, \"#d8576b\"], [0.6666666666666666, \"#ed7953\"], [0.7777777777777778, \"#fb9f3a\"], [0.8888888888888888, \"#fdca26\"], [1.0, \"#f0f921\"]], \"type\": \"heatmapgl\"}], \"histogram\": [{\"marker\": {\"colorbar\": {\"outlinewidth\": 0, \"ticks\": \"\"}}, \"type\": \"histogram\"}], \"histogram2d\": [{\"colorbar\": {\"outlinewidth\": 0, \"ticks\": \"\"}, \"colorscale\": [[0.0, \"#0d0887\"], [0.1111111111111111, \"#46039f\"], [0.2222222222222222, \"#7201a8\"], [0.3333333333333333, \"#9c179e\"], [0.4444444444444444, \"#bd3786\"], [0.5555555555555556, \"#d8576b\"], [0.6666666666666666, \"#ed7953\"], [0.7777777777777778, \"#fb9f3a\"], [0.8888888888888888, \"#fdca26\"], [1.0, \"#f0f921\"]], \"type\": \"histogram2d\"}], \"histogram2dcontour\": [{\"colorbar\": {\"outlinewidth\": 0, \"ticks\": \"\"}, \"colorscale\": [[0.0, \"#0d0887\"], [0.1111111111111111, \"#46039f\"], [0.2222222222222222, \"#7201a8\"], [0.3333333333333333, \"#9c179e\"], [0.4444444444444444, \"#bd3786\"], [0.5555555555555556, \"#d8576b\"], [0.6666666666666666, \"#ed7953\"], [0.7777777777777778, \"#fb9f3a\"], [0.8888888888888888, \"#fdca26\"], [1.0, \"#f0f921\"]], \"type\": \"histogram2dcontour\"}], \"mesh3d\": [{\"colorbar\": {\"outlinewidth\": 0, \"ticks\": \"\"}, \"type\": \"mesh3d\"}], \"parcoords\": [{\"line\": {\"colorbar\": {\"outlinewidth\": 0, \"ticks\": \"\"}}, \"type\": \"parcoords\"}], \"pie\": [{\"automargin\": true, \"type\": \"pie\"}], \"scatter\": [{\"marker\": {\"colorbar\": {\"outlinewidth\": 0, \"ticks\": \"\"}}, \"type\": \"scatter\"}], \"scatter3d\": [{\"line\": {\"colorbar\": {\"outlinewidth\": 0, \"ticks\": \"\"}}, \"marker\": {\"colorbar\": {\"outlinewidth\": 0, \"ticks\": \"\"}}, \"type\": \"scatter3d\"}], \"scattercarpet\": [{\"marker\": {\"colorbar\": {\"outlinewidth\": 0, \"ticks\": \"\"}}, \"type\": \"scattercarpet\"}], \"scattergeo\": [{\"marker\": {\"colorbar\": {\"outlinewidth\": 0, \"ticks\": \"\"}}, \"type\": \"scattergeo\"}], \"scattergl\": [{\"marker\": {\"colorbar\": {\"outlinewidth\": 0, \"ticks\": \"\"}}, \"type\": \"scattergl\"}], \"scattermapbox\": [{\"marker\": {\"colorbar\": {\"outlinewidth\": 0, \"ticks\": \"\"}}, \"type\": \"scattermapbox\"}], \"scatterpolar\": [{\"marker\": {\"colorbar\": {\"outlinewidth\": 0, \"ticks\": \"\"}}, \"type\": \"scatterpolar\"}], \"scatterpolargl\": [{\"marker\": {\"colorbar\": {\"outlinewidth\": 0, \"ticks\": \"\"}}, \"type\": \"scatterpolargl\"}], \"scatterternary\": [{\"marker\": {\"colorbar\": {\"outlinewidth\": 0, \"ticks\": \"\"}}, \"type\": \"scatterternary\"}], \"surface\": [{\"colorbar\": {\"outlinewidth\": 0, \"ticks\": \"\"}, \"colorscale\": [[0.0, \"#0d0887\"], [0.1111111111111111, \"#46039f\"], [0.2222222222222222, \"#7201a8\"], [0.3333333333333333, \"#9c179e\"], [0.4444444444444444, \"#bd3786\"], [0.5555555555555556, \"#d8576b\"], [0.6666666666666666, \"#ed7953\"], [0.7777777777777778, \"#fb9f3a\"], [0.8888888888888888, \"#fdca26\"], [1.0, \"#f0f921\"]], \"type\": \"surface\"}], \"table\": [{\"cells\": {\"fill\": {\"color\": \"#EBF0F8\"}, \"line\": {\"color\": \"white\"}}, \"header\": {\"fill\": {\"color\": \"#C8D4E3\"}, \"line\": {\"color\": \"white\"}}, \"type\": \"table\"}]}, \"layout\": {\"annotationdefaults\": {\"arrowcolor\": \"#2a3f5f\", \"arrowhead\": 0, \"arrowwidth\": 1}, \"coloraxis\": {\"colorbar\": {\"outlinewidth\": 0, \"ticks\": \"\"}}, \"colorscale\": {\"diverging\": [[0, \"#8e0152\"], [0.1, \"#c51b7d\"], [0.2, \"#de77ae\"], [0.3, \"#f1b6da\"], [0.4, \"#fde0ef\"], [0.5, \"#f7f7f7\"], [0.6, \"#e6f5d0\"], [0.7, \"#b8e186\"], [0.8, \"#7fbc41\"], [0.9, \"#4d9221\"], [1, \"#276419\"]], \"sequential\": [[0.0, \"#0d0887\"], [0.1111111111111111, \"#46039f\"], [0.2222222222222222, \"#7201a8\"], [0.3333333333333333, \"#9c179e\"], [0.4444444444444444, \"#bd3786\"], [0.5555555555555556, \"#d8576b\"], [0.6666666666666666, \"#ed7953\"], [0.7777777777777778, \"#fb9f3a\"], [0.8888888888888888, \"#fdca26\"], [1.0, \"#f0f921\"]], \"sequentialminus\": [[0.0, \"#0d0887\"], [0.1111111111111111, \"#46039f\"], [0.2222222222222222, \"#7201a8\"], [0.3333333333333333, \"#9c179e\"], [0.4444444444444444, \"#bd3786\"], [0.5555555555555556, \"#d8576b\"], [0.6666666666666666, \"#ed7953\"], [0.7777777777777778, \"#fb9f3a\"], [0.8888888888888888, \"#fdca26\"], [1.0, \"#f0f921\"]]}, \"colorway\": [\"#636efa\", \"#EF553B\", \"#00cc96\", \"#ab63fa\", \"#FFA15A\", \"#19d3f3\", \"#FF6692\", \"#B6E880\", \"#FF97FF\", \"#FECB52\"], \"font\": {\"color\": \"#2a3f5f\"}, \"geo\": {\"bgcolor\": \"white\", \"lakecolor\": \"white\", \"landcolor\": \"#E5ECF6\", \"showlakes\": true, \"showland\": true, \"subunitcolor\": \"white\"}, \"hoverlabel\": {\"align\": \"left\"}, \"hovermode\": \"closest\", \"mapbox\": {\"style\": \"light\"}, \"paper_bgcolor\": \"white\", \"plot_bgcolor\": \"#E5ECF6\", \"polar\": {\"angularaxis\": {\"gridcolor\": \"white\", \"linecolor\": \"white\", \"ticks\": \"\"}, \"bgcolor\": \"#E5ECF6\", \"radialaxis\": {\"gridcolor\": \"white\", \"linecolor\": \"white\", \"ticks\": \"\"}}, \"scene\": {\"xaxis\": {\"backgroundcolor\": \"#E5ECF6\", \"gridcolor\": \"white\", \"gridwidth\": 2, \"linecolor\": \"white\", \"showbackground\": true, \"ticks\": \"\", \"zerolinecolor\": \"white\"}, \"yaxis\": {\"backgroundcolor\": \"#E5ECF6\", \"gridcolor\": \"white\", \"gridwidth\": 2, \"linecolor\": \"white\", \"showbackground\": true, \"ticks\": \"\", \"zerolinecolor\": \"white\"}, \"zaxis\": {\"backgroundcolor\": \"#E5ECF6\", \"gridcolor\": \"white\", \"gridwidth\": 2, \"linecolor\": \"white\", \"showbackground\": true, \"ticks\": \"\", \"zerolinecolor\": \"white\"}}, \"shapedefaults\": {\"line\": {\"color\": \"#2a3f5f\"}}, \"ternary\": {\"aaxis\": {\"gridcolor\": \"white\", \"linecolor\": \"white\", \"ticks\": \"\"}, \"baxis\": {\"gridcolor\": \"white\", \"linecolor\": \"white\", \"ticks\": \"\"}, \"bgcolor\": \"#E5ECF6\", \"caxis\": {\"gridcolor\": \"white\", \"linecolor\": \"white\", \"ticks\": \"\"}}, \"title\": {\"x\": 0.05}, \"xaxis\": {\"automargin\": true, \"gridcolor\": \"white\", \"linecolor\": \"white\", \"ticks\": \"\", \"title\": {\"standoff\": 15}, \"zerolinecolor\": \"white\", \"zerolinewidth\": 2}, \"yaxis\": {\"automargin\": true, \"gridcolor\": \"white\", \"linecolor\": \"white\", \"ticks\": \"\", \"title\": {\"standoff\": 15}, \"zerolinecolor\": \"white\", \"zerolinewidth\": 2}}}, \"xaxis\": {\"zeroline\": false}, \"yaxis\": {\"zeroline\": false}},\n",
              "                        {\"responsive\": true}\n",
              "                    ).then(function(){\n",
              "                            \n",
              "var gd = document.getElementById('8df3b0dd-bd8d-4146-b8c7-b4e9a84a0684');\n",
              "var x = new MutationObserver(function (mutations, observer) {{\n",
              "        var display = window.getComputedStyle(gd).display;\n",
              "        if (!display || display === 'none') {{\n",
              "            console.log([gd, 'removed!']);\n",
              "            Plotly.purge(gd);\n",
              "            observer.disconnect();\n",
              "        }}\n",
              "}});\n",
              "\n",
              "// Listen for the removal of the full notebook cells\n",
              "var notebookContainer = gd.closest('#notebook-container');\n",
              "if (notebookContainer) {{\n",
              "    x.observe(notebookContainer, {childList: true});\n",
              "}}\n",
              "\n",
              "// Listen for the clearing of the current output cell\n",
              "var outputEl = gd.closest('.output');\n",
              "if (outputEl) {{\n",
              "    x.observe(outputEl, {childList: true});\n",
              "}}\n",
              "\n",
              "                        })\n",
              "                };\n",
              "                \n",
              "            </script>\n",
              "        </div>\n",
              "</body>\n",
              "</html>"
            ]
          },
          "metadata": {
            "tags": []
          }
        }
      ]
    },
    {
      "cell_type": "markdown",
      "metadata": {
        "id": "ns4h9haN15DG"
      },
      "source": [
        "## Transformers\n",
        "\n",
        "At last it's time for current state-of-the-art approach - Transformers. Famous [GPT-2](https://openai.com/blog/better-language-models/), [BERT](https://github.com/google-research/bert), [CTRL](https://blog.einstein.ai/introducing-a-conditional-transformer-language-model-for-controllable-generation/) are all Transformers-based and produce context-sensitive embeddings like ELMo. But unlike ELMo Transformers do not use [RNN](https://en.wikipedia.org/wiki/Recurrent_neural_network), trey do not require to process words in sentence sequentially one-by-one. All words in the sentence are processed in parallel, this approach speeds up processing and solves [vanishing gradient problem](https://en.wikipedia.org/wiki/Vanishing_gradient_problem).\n",
        "\n",
        "Transformers use the [attention mechanizm](https://arxiv.org/abs/1706.03762) to describe the connections and dependencies of each specific word with all other words in the sentence. This mechanism and the main principles of Transformers described in detail in a beautifully illustrated [article](http://jalammar.github.io/illustrated-transformer/) by Jay Alammar.\n",
        "\n",
        "![alt text](http://jalammar.github.io/images/t/transformer_resideual_layer_norm_3.png) Image from[ http://jalammar.github.io](http://jalammar.github.io/illustrated-transformer/)\n",
        "\n"
      ]
    },
    {
      "cell_type": "markdown",
      "metadata": {
        "id": "zvHAQ0_tINn4"
      },
      "source": [
        "For our example we wil use brilliant [Transformers](https://huggingface.co/transformers/) library, which contains the latest Transformers-based models (such as [BERT](https://huggingface.co/transformers/model_doc/bert.html), [XLNet](https://huggingface.co/transformers/model_doc/xlnet.html), [DialoGPT](https://huggingface.co/transformers/model_doc/dialogpt.html) or [GPT-2](https://huggingface.co/transformers/model_doc/gpt2.html)).\n",
        "\n",
        "Let's make some embeddings with BERT. Firstly we will need to install Transformers library."
      ]
    },
    {
      "cell_type": "code",
      "metadata": {
        "id": "Y05tZ1HmVuiD",
        "colab": {
          "base_uri": "https://localhost:8080/",
          "height": 627
        },
        "outputId": "833c7de1-4e0e-46cb-8b9d-6a8630a2fd74"
      },
      "source": [
        "!pip install transformers"
      ],
      "execution_count": null,
      "outputs": [
        {
          "output_type": "stream",
          "text": [
            "Collecting transformers\n",
            "\u001b[?25l  Downloading https://files.pythonhosted.org/packages/27/3c/91ed8f5c4e7ef3227b4119200fc0ed4b4fd965b1f0172021c25701087825/transformers-3.0.2-py3-none-any.whl (769kB)\n",
            "\u001b[K     |████████████████████████████████| 778kB 4.5MB/s \n",
            "\u001b[?25hCollecting tokenizers==0.8.1.rc1\n",
            "\u001b[?25l  Downloading https://files.pythonhosted.org/packages/40/d0/30d5f8d221a0ed981a186c8eb986ce1c94e3a6e87f994eae9f4aa5250217/tokenizers-0.8.1rc1-cp36-cp36m-manylinux1_x86_64.whl (3.0MB)\n",
            "\u001b[K     |████████████████████████████████| 3.0MB 26.3MB/s \n",
            "\u001b[?25hRequirement already satisfied: dataclasses; python_version < \"3.7\" in /usr/local/lib/python3.6/dist-packages (from transformers) (0.7)\n",
            "Collecting sentencepiece!=0.1.92\n",
            "\u001b[?25l  Downloading https://files.pythonhosted.org/packages/d4/a4/d0a884c4300004a78cca907a6ff9a5e9fe4f090f5d95ab341c53d28cbc58/sentencepiece-0.1.91-cp36-cp36m-manylinux1_x86_64.whl (1.1MB)\n",
            "\u001b[K     |████████████████████████████████| 1.1MB 33.3MB/s \n",
            "\u001b[?25hRequirement already satisfied: tqdm>=4.27 in /usr/local/lib/python3.6/dist-packages (from transformers) (4.41.1)\n",
            "Requirement already satisfied: requests in /usr/local/lib/python3.6/dist-packages (from transformers) (2.23.0)\n",
            "Requirement already satisfied: regex!=2019.12.17 in /usr/local/lib/python3.6/dist-packages (from transformers) (2019.12.20)\n",
            "Requirement already satisfied: filelock in /usr/local/lib/python3.6/dist-packages (from transformers) (3.0.12)\n",
            "Requirement already satisfied: packaging in /usr/local/lib/python3.6/dist-packages (from transformers) (20.4)\n",
            "Requirement already satisfied: numpy in /usr/local/lib/python3.6/dist-packages (from transformers) (1.18.5)\n",
            "Collecting sacremoses\n",
            "\u001b[?25l  Downloading https://files.pythonhosted.org/packages/7d/34/09d19aff26edcc8eb2a01bed8e98f13a1537005d31e95233fd48216eed10/sacremoses-0.0.43.tar.gz (883kB)\n",
            "\u001b[K     |████████████████████████████████| 890kB 22.7MB/s \n",
            "\u001b[?25hRequirement already satisfied: idna<3,>=2.5 in /usr/local/lib/python3.6/dist-packages (from requests->transformers) (2.10)\n",
            "Requirement already satisfied: chardet<4,>=3.0.2 in /usr/local/lib/python3.6/dist-packages (from requests->transformers) (3.0.4)\n",
            "Requirement already satisfied: urllib3!=1.25.0,!=1.25.1,<1.26,>=1.21.1 in /usr/local/lib/python3.6/dist-packages (from requests->transformers) (1.24.3)\n",
            "Requirement already satisfied: certifi>=2017.4.17 in /usr/local/lib/python3.6/dist-packages (from requests->transformers) (2020.6.20)\n",
            "Requirement already satisfied: pyparsing>=2.0.2 in /usr/local/lib/python3.6/dist-packages (from packaging->transformers) (2.4.7)\n",
            "Requirement already satisfied: six in /usr/local/lib/python3.6/dist-packages (from packaging->transformers) (1.15.0)\n",
            "Requirement already satisfied: click in /usr/local/lib/python3.6/dist-packages (from sacremoses->transformers) (7.1.2)\n",
            "Requirement already satisfied: joblib in /usr/local/lib/python3.6/dist-packages (from sacremoses->transformers) (0.16.0)\n",
            "Building wheels for collected packages: sacremoses\n",
            "  Building wheel for sacremoses (setup.py) ... \u001b[?25l\u001b[?25hdone\n",
            "  Created wheel for sacremoses: filename=sacremoses-0.0.43-cp36-none-any.whl size=893260 sha256=76991e4939d24ed2935227c6266ef3d73b65be7ca4e5d7f8deb1574bfd0c61da\n",
            "  Stored in directory: /root/.cache/pip/wheels/29/3c/fd/7ce5c3f0666dab31a50123635e6fb5e19ceb42ce38d4e58f45\n",
            "Successfully built sacremoses\n",
            "Installing collected packages: tokenizers, sentencepiece, sacremoses, transformers\n",
            "Successfully installed sacremoses-0.0.43 sentencepiece-0.1.91 tokenizers-0.8.1rc1 transformers-3.0.2\n"
          ],
          "name": "stdout"
        }
      ]
    },
    {
      "cell_type": "markdown",
      "metadata": {
        "id": "KyvVhedCO77-"
      },
      "source": [
        "Now we import pytorch, the pretrained BERT model, and a BERT tokenizer, that will do all the needed work of converting sentences into format appropriate for BERT (tokenizing itself and adding special tokens like [SEP] and [CLS])."
      ]
    },
    {
      "cell_type": "code",
      "metadata": {
        "id": "SQgQVUWBE3uK",
        "colab": {
          "base_uri": "https://localhost:8080/",
          "height": 66,
          "referenced_widgets": [
            "0b591df097dd452daca79306abcd3f79",
            "fb59e680d06f4d438d7c3e4cea592b75",
            "c45252039ecd464596a5c2ce83b58e02",
            "4d67c47413e74cca9353e304944f5c22",
            "7b97c0edb8f742babe70de9507afb9fe",
            "fcd212aa59fe4e38925c4d57ac45e2d3",
            "92d33031edb04a9f80891cba9dddd9df",
            "a900bc08c9944d8b931c0c64f5371082"
          ]
        },
        "outputId": "d5d94c5d-0877-4fa7-c889-5d0da49c6b16"
      },
      "source": [
        "import torch\n",
        "torch.manual_seed(0)\n",
        "from transformers import BertTokenizer, BertModel\n",
        "\n",
        "import logging\n",
        "import matplotlib.pyplot as plt\n",
        "% matplotlib inline\n",
        "\n",
        "# Load pre-trained model tokenizer (vocabulary)\n",
        "tokenizer = BertTokenizer.from_pretrained('bert-base-uncased', do_lower_case=True)"
      ],
      "execution_count": null,
      "outputs": [
        {
          "output_type": "display_data",
          "data": {
            "application/vnd.jupyter.widget-view+json": {
              "model_id": "0b591df097dd452daca79306abcd3f79",
              "version_minor": 0,
              "version_major": 2
            },
            "text/plain": [
              "HBox(children=(FloatProgress(value=0.0, description='Downloading', max=231508.0, style=ProgressStyle(descripti…"
            ]
          },
          "metadata": {
            "tags": []
          }
        },
        {
          "output_type": "stream",
          "text": [
            "\n"
          ],
          "name": "stdout"
        }
      ]
    },
    {
      "cell_type": "markdown",
      "metadata": {
        "id": "RoKGZPu1dnDz"
      },
      "source": [
        "Enter some sentences and tokenize them."
      ]
    },
    {
      "cell_type": "code",
      "metadata": {
        "id": "WQiMtrxHPyYz",
        "colab": {
          "base_uri": "https://localhost:8080/",
          "height": 106
        },
        "outputId": "ca5de695-92cf-4f94-b832-7767185722d8"
      },
      "source": [
        "sentences =  \\\n",
        "['king arthur, also called arthur or aathur pendragon, legendary british king who appears in a cycle of \\\n",
        "medieval romances (known as the matter of britain) as the sovereign of a knightly fellowship of the round table.',\n",
        "'it is not certain how these legends originated or whether the figure of arthur was based on a historical person.',\n",
        "'the legend possibly originated either in wales or in those parts of northern britain inhabited by brythonic-speaking celts.',\n",
        "'for a fuller treatment of the stories about king arthur, see also arthurian legend.']\n",
        "\n",
        "sentences"
      ],
      "execution_count": null,
      "outputs": [
        {
          "output_type": "execute_result",
          "data": {
            "text/plain": [
              "['king arthur, also called arthur or aathur pendragon, legendary british king who appears in a cycle of medieval romances (known as the matter of britain) as the sovereign of a knightly fellowship of the round table.',\n",
              " 'it is not certain how these legends originated or whether the figure of arthur was based on a historical person.',\n",
              " 'the legend possibly originated either in wales or in those parts of northern britain inhabited by brythonic-speaking celts.',\n",
              " 'for a fuller treatment of the stories about king arthur, see also arthurian legend.']"
            ]
          },
          "metadata": {
            "tags": []
          },
          "execution_count": 211
        }
      ]
    },
    {
      "cell_type": "code",
      "metadata": {
        "id": "dIgUC1H-Qq3s",
        "colab": {
          "base_uri": "https://localhost:8080/",
          "height": 69
        },
        "outputId": "1f689acc-f943-4bdf-c531-59d3b0d82809"
      },
      "source": [
        "# Print the original sentence.\n",
        "print(' Original: ', sentences[0][:99])\n",
        "\n",
        "# Print the sentence split into tokens.\n",
        "print('Tokenized: ', tokenizer.tokenize(sentences[0])[:15])\n",
        "\n",
        "# Print the sentence mapped to token ids.\n",
        "print('Token IDs: ', tokenizer.convert_tokens_to_ids(tokenizer.tokenize(sentences[0]))[:15])\n"
      ],
      "execution_count": null,
      "outputs": [
        {
          "output_type": "stream",
          "text": [
            " Original:  king arthur, also called arthur or aathur pendragon, legendary british king who appears in a cycle \n",
            "Tokenized:  ['king', 'arthur', ',', 'also', 'called', 'arthur', 'or', 'aa', '##th', '##ur', 'pen', '##dra', '##gon', ',', 'legendary']\n",
            "Token IDs:  [2332, 4300, 1010, 2036, 2170, 4300, 2030, 9779, 2705, 3126, 7279, 7265, 7446, 1010, 8987]\n"
          ],
          "name": "stdout"
        }
      ]
    },
    {
      "cell_type": "markdown",
      "metadata": {
        "id": "8CLrBzF0Xor1"
      },
      "source": [
        "Note that some tokens may look like this: ['aa', '##th', '##ur', 'pen', '##dra', '##gon']. This is because of the BERT tokenizer was created with a WordPiece model. This model greedily creates a fixed-size vocabulary of individual characters, subwords, and words that best fits our language data. BERT tokenizer uses vocabulary that contains all English characters plus the ~30,000 most common words and subwords found in the English language corpus the model is trained on. So, if the word is not mentioned in a vocabulary, that words is splitted into subwords and characters.  The two hash signs (##) before some subwords shows that subword is part of a larger word and preceded by another subword.   "
      ]
    },
    {
      "cell_type": "markdown",
      "metadata": {
        "id": "wJj-lGP-W0me"
      },
      "source": [
        "We will use tokenizer.encode_plus function, that will:\n",
        "\n",
        "- Split the sentence into tokens.\n",
        "- Add the special [CLS] and [SEP] tokens.\n",
        "- Map the tokens to their IDs.\n",
        "- Pad or truncate all sentences to the same length.\n",
        "- Create the attention masks which explicitly differentiate real tokens from [PAD] tokens.\n"
      ]
    },
    {
      "cell_type": "code",
      "metadata": {
        "id": "CvZPrF5fWzTZ",
        "colab": {
          "base_uri": "https://localhost:8080/",
          "height": 141
        },
        "outputId": "fa9113ec-5f04-45d2-bdd7-d1e6d5333f86"
      },
      "source": [
        "# Tokenize all of the sentences and map the tokens to thier word IDs.\n",
        "input_ids = []\n",
        "attention_masks = []\n",
        "tokenized_texts = []\n",
        "\n",
        "\n",
        "for sent in sentences:\n",
        "    encoded_dict = tokenizer.encode_plus(\n",
        "                        sent,                      # Sentence to encode.\n",
        "                        add_special_tokens = True, # Add '[CLS]' and '[SEP]'\n",
        "                        truncation=True,\n",
        "                        max_length = 48,           # Pad & truncate all sentences.\n",
        "                        pad_to_max_length = True,\n",
        "                        return_tensors = 'pt',     # Return pytorch tensors.\n",
        "                   )\n",
        "\n",
        "    # Save tokens from sentence as a separate array. We will use it later to explore and compare embeddings.\n",
        "    marked_text = \"[CLS] \" + sent + \" [SEP]\"\n",
        "    tokenized_texts.append(tokenizer.tokenize(marked_text))\n",
        "\n",
        "    # Add the encoded sentence to the list.\n",
        "    input_ids.append(encoded_dict['input_ids'])\n",
        "\n",
        "# Convert the list into tensor.\n",
        "input_ids = torch.cat(input_ids, dim=0)\n",
        "\n",
        "# Print sentence 0, now as a list of IDs.\n",
        "print('Original: ', sentences[0])\n",
        "print('Token IDs:', input_ids[0])"
      ],
      "execution_count": null,
      "outputs": [
        {
          "output_type": "stream",
          "text": [
            "Original:  king arthur, also called arthur or aathur pendragon, legendary british king who appears in a cycle of medieval romances (known as the matter of britain) as the sovereign of a knightly fellowship of the round table.\n",
            "Token IDs: tensor([  101,  2332,  4300,  1010,  2036,  2170,  4300,  2030,  9779,  2705,\n",
            "         3126,  7279,  7265,  7446,  1010,  8987,  2329,  2332,  2040,  3544,\n",
            "         1999,  1037,  5402,  1997,  5781,  7472,  2015,  1006,  2124,  2004,\n",
            "         1996,  3043,  1997,  3725,  1007,  2004,  1996, 11074,  1997,  1037,\n",
            "         5000,  2135,  7881,  1997,  1996,  2461,  2795,   102])\n"
          ],
          "name": "stdout"
        }
      ]
    },
    {
      "cell_type": "markdown",
      "metadata": {
        "id": "l-HG1Chbh2da"
      },
      "source": [
        "**Segment ID**. BERT is trained on and expects sentence pairs using 1s and 0s to distinguish between the two sentences. We will encode each sentence separately so we will just mark each token in each sentence with 1."
      ]
    },
    {
      "cell_type": "code",
      "metadata": {
        "id": "0LjE5M-Qfzxg",
        "colab": {
          "base_uri": "https://localhost:8080/",
          "height": 34
        },
        "outputId": "49e0d863-c3e4-43db-b252-e3b54fb8c77c"
      },
      "source": [
        "segments_ids = torch.ones_like(input_ids)\n",
        "segments_ids.shape"
      ],
      "execution_count": null,
      "outputs": [
        {
          "output_type": "execute_result",
          "data": {
            "text/plain": [
              "torch.Size([4, 48])"
            ]
          },
          "metadata": {
            "tags": []
          },
          "execution_count": 29
        }
      ]
    },
    {
      "cell_type": "markdown",
      "metadata": {
        "id": "tAlTfj9nlItq"
      },
      "source": [
        "Now we can call BERT model and finally get embeddings."
      ]
    },
    {
      "cell_type": "code",
      "metadata": {
        "id": "xbI_5u3AlEFt"
      },
      "source": [
        "model = BertModel.from_pretrained('bert-base-uncased',\n",
        "                                  output_hidden_states = True, # Whether the model returns all hidden-states.\n",
        "                                  )\n",
        "model.eval();"
      ],
      "execution_count": null,
      "outputs": []
    },
    {
      "cell_type": "code",
      "metadata": {
        "id": "zhj427SijVU4"
      },
      "source": [
        "with torch.no_grad():\n",
        "\n",
        "    outputs = model(input_ids, segments_ids)\n",
        "\n",
        "    # Evaluating the model will return a different number of objects based on\n",
        "    # how it's  configured in the `from_pretrained` call earlier. In this case,\n",
        "    # becase we set `output_hidden_states = True`, the third item will be the\n",
        "    # hidden states from all layers. See the documentation for more details:\n",
        "    # https://huggingface.co/transformers/model_doc/bert.html#bertmodel\n",
        "    hidden_states = outputs[2]"
      ],
      "execution_count": null,
      "outputs": []
    },
    {
      "cell_type": "markdown",
      "metadata": {
        "id": "nCKyebgprKLG"
      },
      "source": [
        "Let's examine what we've got."
      ]
    },
    {
      "cell_type": "code",
      "metadata": {
        "id": "KRgeWRVHrRHK",
        "colab": {
          "base_uri": "https://localhost:8080/",
          "height": 86
        },
        "outputId": "5c1d5193-2ae6-4ab1-b4f9-d8efd1817672"
      },
      "source": [
        "print (\"Number of layers:\", len(hidden_states), \"  (initial embeddings + 12 BERT layers)\")\n",
        "print (\"Number of batches:\", len(hidden_states[0]))\n",
        "print (\"Number of tokens:\", len(hidden_states[0][0]))\n",
        "print (\"Number of hidden units:\", len(hidden_states[0][0][0]))\n"
      ],
      "execution_count": null,
      "outputs": [
        {
          "output_type": "stream",
          "text": [
            "Number of layers: 13   (initial embeddings + 12 BERT layers)\n",
            "Number of batches: 4\n",
            "Number of tokens: 48\n",
            "Number of hidden units: 768\n"
          ],
          "name": "stdout"
        }
      ]
    },
    {
      "cell_type": "code",
      "metadata": {
        "id": "t9ecIgL1mdox",
        "colab": {
          "base_uri": "https://localhost:8080/",
          "height": 34
        },
        "outputId": "8686ec80-255d-4b29-b5df-a5db7f54edcb"
      },
      "source": [
        "# Concatenate the tensors for all layers. We use `stack` here to\n",
        "# create a new dimension in the tensor.\n",
        "token_embeddings = torch.stack(hidden_states, dim=0)\n",
        "\n",
        "token_embeddings.size()"
      ],
      "execution_count": null,
      "outputs": [
        {
          "output_type": "execute_result",
          "data": {
            "text/plain": [
              "torch.Size([13, 4, 48, 768])"
            ]
          },
          "metadata": {
            "tags": []
          },
          "execution_count": 33
        }
      ]
    },
    {
      "cell_type": "code",
      "metadata": {
        "id": "_YcTplZDq_Ip",
        "colab": {
          "base_uri": "https://localhost:8080/",
          "height": 34
        },
        "outputId": "3ba08442-8a43-43d7-c9d2-b1d87dff47df"
      },
      "source": [
        "# Swap dimensions, so we get tensors in format: [sentence, tokens, hidden layes, features]\n",
        "token_embeddings = token_embeddings.permute(1,2,0,3)\n",
        "\n",
        "token_embeddings.size()"
      ],
      "execution_count": null,
      "outputs": [
        {
          "output_type": "execute_result",
          "data": {
            "text/plain": [
              "torch.Size([4, 48, 13, 768])"
            ]
          },
          "metadata": {
            "tags": []
          },
          "execution_count": 34
        }
      ]
    },
    {
      "cell_type": "code",
      "metadata": {
        "id": "Hm6lbPc2s0k9",
        "colab": {
          "base_uri": "https://localhost:8080/",
          "height": 34
        },
        "outputId": "bacc1c87-9555-48c1-ddfc-aa0c3f93e436"
      },
      "source": [
        "# we will use last four hidden layers to create each word embedding\n",
        "\n",
        "processed_embeddings = token_embeddings[:, :, 9:, :]\n",
        "processed_embeddings.shape"
      ],
      "execution_count": null,
      "outputs": [
        {
          "output_type": "execute_result",
          "data": {
            "text/plain": [
              "torch.Size([4, 48, 4, 768])"
            ]
          },
          "metadata": {
            "tags": []
          },
          "execution_count": 35
        }
      ]
    },
    {
      "cell_type": "code",
      "metadata": {
        "id": "q908hPTzxnMU",
        "colab": {
          "base_uri": "https://localhost:8080/",
          "height": 34
        },
        "outputId": "3098b4ea-2f8d-4570-aefd-08b91fd51caa"
      },
      "source": [
        "# Concatenate four layers for each token to create embeddings\n",
        "\n",
        "embeddings = torch.reshape(processed_embeddings, (4, 48, -1))\n",
        "embeddings.shape"
      ],
      "execution_count": null,
      "outputs": [
        {
          "output_type": "execute_result",
          "data": {
            "text/plain": [
              "torch.Size([4, 48, 3072])"
            ]
          },
          "metadata": {
            "tags": []
          },
          "execution_count": 36
        }
      ]
    },
    {
      "cell_type": "markdown",
      "metadata": {
        "id": "CgzGSE0UEfGK"
      },
      "source": [
        "Let's examine embeddings for the first sentence. Firstly we need to get ids of tokens we need to compare."
      ]
    },
    {
      "cell_type": "code",
      "metadata": {
        "id": "FbTQaukmzM1v",
        "colab": {
          "base_uri": "https://localhost:8080/",
          "height": 868
        },
        "outputId": "ae99c77d-c516-4ea5-d360-7833c65a1739"
      },
      "source": [
        "for i, token_str in enumerate(tokenized_texts[0]):\n",
        "  print (i, token_str)"
      ],
      "execution_count": null,
      "outputs": [
        {
          "output_type": "stream",
          "text": [
            "0 [CLS]\n",
            "1 king\n",
            "2 arthur\n",
            "3 ,\n",
            "4 also\n",
            "5 called\n",
            "6 arthur\n",
            "7 or\n",
            "8 aa\n",
            "9 ##th\n",
            "10 ##ur\n",
            "11 pen\n",
            "12 ##dra\n",
            "13 ##gon\n",
            "14 ,\n",
            "15 legendary\n",
            "16 british\n",
            "17 king\n",
            "18 who\n",
            "19 appears\n",
            "20 in\n",
            "21 a\n",
            "22 cycle\n",
            "23 of\n",
            "24 medieval\n",
            "25 romance\n",
            "26 ##s\n",
            "27 (\n",
            "28 known\n",
            "29 as\n",
            "30 the\n",
            "31 matter\n",
            "32 of\n",
            "33 britain\n",
            "34 )\n",
            "35 as\n",
            "36 the\n",
            "37 sovereign\n",
            "38 of\n",
            "39 a\n",
            "40 knight\n",
            "41 ##ly\n",
            "42 fellowship\n",
            "43 of\n",
            "44 the\n",
            "45 round\n",
            "46 table\n",
            "47 .\n",
            "48 [SEP]\n"
          ],
          "name": "stdout"
        }
      ]
    },
    {
      "cell_type": "markdown",
      "metadata": {
        "id": "mmunweJ427pw"
      },
      "source": [
        "We can see that word 'king' is places at indexes 1 and 17. We will check distance between embeddings 1 and 17. Also, we will check if embedding for word 'arthur' is closer to king then word 'table'."
      ]
    },
    {
      "cell_type": "code",
      "metadata": {
        "id": "NDVo-mBtzi_3",
        "colab": {
          "base_uri": "https://localhost:8080/",
          "height": 69
        },
        "outputId": "cdb0024d-5354-47e9-d27d-0de59ee95f21"
      },
      "source": [
        "from scipy.spatial.distance import cosine\n",
        "\n",
        "kings = cosine(embeddings[0][1], embeddings[0][17])\n",
        "king_table = cosine(embeddings[0][1], embeddings[0][46])\n",
        "king_archtur = cosine(embeddings[0][2], embeddings[0][1])\n",
        "\n",
        "print('Distance for two kings:  %.2f' % kings)\n",
        "print('Distance from king to table:  %.2f' % king_table)\n",
        "print('Distance from Archtur to king:  %.2f' % king_archtur)"
      ],
      "execution_count": null,
      "outputs": [
        {
          "output_type": "stream",
          "text": [
            "Distance for two kings:  0.21\n",
            "Distance from king to table:  0.73\n",
            "Distance from Archtur to king:  0.40\n"
          ],
          "name": "stdout"
        }
      ]
    },
    {
      "cell_type": "markdown",
      "metadata": {
        "id": "qmYn9mPB5hcr"
      },
      "source": [
        "So we see that embeddings for two 'kings' are quite similar but not same, and Archtur is closer to be a king than a table."
      ]
    },
    {
      "cell_type": "markdown",
      "metadata": {
        "id": "1RSA_l9h6Ftz"
      },
      "source": [
        "Things may be simplier with **[simplerepresentations](https://github.com/AliOsm/simplerepresentations)** module. This module does all the work we did earlier - extracts needed hidden states from BERT and creates embeddings in a few lines of code."
      ]
    },
    {
      "cell_type": "code",
      "metadata": {
        "id": "le0O7JeS62P8",
        "colab": {
          "base_uri": "https://localhost:8080/",
          "height": 419
        },
        "outputId": "6fea8c54-43fa-495c-a064-efc72d3fb8c1"
      },
      "source": [
        "!pip install simplerepresentations"
      ],
      "execution_count": null,
      "outputs": [
        {
          "output_type": "stream",
          "text": [
            "Requirement already satisfied: simplerepresentations in /usr/local/lib/python3.6/dist-packages (0.0.4)\n",
            "Requirement already satisfied: transformers in /usr/local/lib/python3.6/dist-packages (from simplerepresentations) (3.0.2)\n",
            "Requirement already satisfied: tqdm in /usr/local/lib/python3.6/dist-packages (from simplerepresentations) (4.41.1)\n",
            "Requirement already satisfied: torch in /usr/local/lib/python3.6/dist-packages (from simplerepresentations) (1.5.1+cu101)\n",
            "Requirement already satisfied: numpy in /usr/local/lib/python3.6/dist-packages (from simplerepresentations) (1.18.5)\n",
            "Requirement already satisfied: regex!=2019.12.17 in /usr/local/lib/python3.6/dist-packages (from transformers->simplerepresentations) (2019.12.20)\n",
            "Requirement already satisfied: sentencepiece!=0.1.92 in /usr/local/lib/python3.6/dist-packages (from transformers->simplerepresentations) (0.1.91)\n",
            "Requirement already satisfied: dataclasses; python_version < \"3.7\" in /usr/local/lib/python3.6/dist-packages (from transformers->simplerepresentations) (0.7)\n",
            "Requirement already satisfied: packaging in /usr/local/lib/python3.6/dist-packages (from transformers->simplerepresentations) (20.4)\n",
            "Requirement already satisfied: sacremoses in /usr/local/lib/python3.6/dist-packages (from transformers->simplerepresentations) (0.0.43)\n",
            "Requirement already satisfied: tokenizers==0.8.1.rc1 in /usr/local/lib/python3.6/dist-packages (from transformers->simplerepresentations) (0.8.1rc1)\n",
            "Requirement already satisfied: requests in /usr/local/lib/python3.6/dist-packages (from transformers->simplerepresentations) (2.23.0)\n",
            "Requirement already satisfied: filelock in /usr/local/lib/python3.6/dist-packages (from transformers->simplerepresentations) (3.0.12)\n",
            "Requirement already satisfied: future in /usr/local/lib/python3.6/dist-packages (from torch->simplerepresentations) (0.16.0)\n",
            "Requirement already satisfied: pyparsing>=2.0.2 in /usr/local/lib/python3.6/dist-packages (from packaging->transformers->simplerepresentations) (2.4.7)\n",
            "Requirement already satisfied: six in /usr/local/lib/python3.6/dist-packages (from packaging->transformers->simplerepresentations) (1.15.0)\n",
            "Requirement already satisfied: joblib in /usr/local/lib/python3.6/dist-packages (from sacremoses->transformers->simplerepresentations) (0.16.0)\n",
            "Requirement already satisfied: click in /usr/local/lib/python3.6/dist-packages (from sacremoses->transformers->simplerepresentations) (7.1.2)\n",
            "Requirement already satisfied: chardet<4,>=3.0.2 in /usr/local/lib/python3.6/dist-packages (from requests->transformers->simplerepresentations) (3.0.4)\n",
            "Requirement already satisfied: certifi>=2017.4.17 in /usr/local/lib/python3.6/dist-packages (from requests->transformers->simplerepresentations) (2020.6.20)\n",
            "Requirement already satisfied: urllib3!=1.25.0,!=1.25.1,<1.26,>=1.21.1 in /usr/local/lib/python3.6/dist-packages (from requests->transformers->simplerepresentations) (1.24.3)\n",
            "Requirement already satisfied: idna<3,>=2.5 in /usr/local/lib/python3.6/dist-packages (from requests->transformers->simplerepresentations) (2.10)\n"
          ],
          "name": "stdout"
        }
      ]
    },
    {
      "cell_type": "code",
      "metadata": {
        "id": "1T01bAY75Mcv",
        "colab": {
          "base_uri": "https://localhost:8080/",
          "height": 168,
          "referenced_widgets": [
            "1ae7a66074b24b30b7b8d47b75104c7f",
            "16a736e460f749c9a1c035723a1ad201",
            "7843040f735546afb64c90602c1c8a0b",
            "596cc22cc85948238fa53d923227f1ae",
            "023206090efd43f3bf81dfddf342e5c1",
            "a750268e28d24240bf36532404abc1fa",
            "98985960e55f438ba8dbbf77c50ed47b",
            "c81ccc42ccb245a3b3c965b237576550",
            "2899a7fc90ab4541af179a63abba0b39",
            "700b9b4369d04c7baa90551057950298",
            "a93285635aef433281557db177e019af",
            "dcf81c767ad84cb9b2c305d1d94743e7",
            "6898eb8c7ccd4bc59ba327b244edf4af",
            "6e779a45d40f408a9a7419a11101e0b4",
            "3108385d70a24cc8a9fde1f4c8c91d19",
            "aea2a412a09f46d2b68a36c23a3577f3"
          ]
        },
        "outputId": "1be20ef2-1abf-4c92-ce39-ea43031caa4b"
      },
      "source": [
        "import torch\n",
        "from simplerepresentations import RepresentationModel\n",
        "torch.manual_seed(0)\n",
        "\n",
        "model_type = 'bert'\n",
        "model_name = 'bert-base-uncased'\n",
        "\n",
        "representation_model = RepresentationModel(\n",
        "\t\tmodel_type=model_type,\n",
        "\t\tmodel_name=model_name,\n",
        "\t\tbatch_size=4,\n",
        "\t\tmax_seq_length=48, # truncate sentences to be less than or equal to 48 tokens\n",
        "\t\tcombination_method='cat', # concatenate the last `last_hidden_to_use` hidden states\n",
        "\t\tlast_hidden_to_use=4 # use the last 4 hidden states to build tokens representations\n",
        "\t)\n",
        "\n",
        "text_a = sentences\n",
        "\n",
        "all_sentences_representations, all_tokens_representations = representation_model(text_a=text_a)\n",
        "\n",
        "print(all_sentences_representations.shape) # (4, 768) => (number of sentences, hidden size)\n",
        "print(all_tokens_representations.shape) # (4, 48, 3072) => (number of sentences, number of tokens, hidden size)"
      ],
      "execution_count": null,
      "outputs": [
        {
          "output_type": "stream",
          "text": [
            "Converting to features started.\n"
          ],
          "name": "stdout"
        },
        {
          "output_type": "display_data",
          "data": {
            "application/vnd.jupyter.widget-view+json": {
              "model_id": "1ae7a66074b24b30b7b8d47b75104c7f",
              "version_minor": 0,
              "version_major": 2
            },
            "text/plain": [
              "HBox(children=(FloatProgress(value=0.0, max=4.0), HTML(value='')))"
            ]
          },
          "metadata": {
            "tags": []
          }
        },
        {
          "output_type": "stream",
          "text": [
            "\n"
          ],
          "name": "stdout"
        },
        {
          "output_type": "display_data",
          "data": {
            "application/vnd.jupyter.widget-view+json": {
              "model_id": "2899a7fc90ab4541af179a63abba0b39",
              "version_minor": 0,
              "version_major": 2
            },
            "text/plain": [
              "HBox(children=(FloatProgress(value=0.0, max=1.0), HTML(value='')))"
            ]
          },
          "metadata": {
            "tags": []
          }
        },
        {
          "output_type": "stream",
          "text": [
            "\n",
            "(4, 768)\n",
            "(4, 48, 3072)\n"
          ],
          "name": "stdout"
        }
      ]
    },
    {
      "cell_type": "markdown",
      "metadata": {
        "id": "H5hXmpV57wgh"
      },
      "source": [
        "Check distaces between Archtur, king and table."
      ]
    },
    {
      "cell_type": "code",
      "metadata": {
        "id": "lu1llFF27eXc",
        "colab": {
          "base_uri": "https://localhost:8080/",
          "height": 69
        },
        "outputId": "1a126af6-ac4c-4ed4-9d09-b8d39c4ce453"
      },
      "source": [
        "from scipy.spatial.distance import cosine\n",
        "\n",
        "kings = cosine(all_tokens_representations[0][1], all_tokens_representations[0][17])\n",
        "king_table = cosine(all_tokens_representations[0][1], all_tokens_representations[0][46])\n",
        "king_archtur = cosine(all_tokens_representations[0][2], all_tokens_representations[0][1])\n",
        "\n",
        "print('Distance for two kings:  %.2f' % kings)\n",
        "print('Distance from king to table:  %.2f' % king_table)\n",
        "print('Distance from Archtur to king:  %.2f' % king_archtur)"
      ],
      "execution_count": null,
      "outputs": [
        {
          "output_type": "stream",
          "text": [
            "Distance for two kings:  0.21\n",
            "Distance from king to table:  0.73\n",
            "Distance from Archtur to king:  0.40\n"
          ],
          "name": "stdout"
        }
      ]
    },
    {
      "cell_type": "markdown",
      "metadata": {
        "id": "w8M5HubwC1BX"
      },
      "source": [
        "Same results, less code."
      ]
    },
    {
      "cell_type": "markdown",
      "metadata": {
        "id": "qMhX6QOORrxq"
      },
      "source": [
        "## Conclusion\n",
        "\n",
        "I hope that after reading this article you have formed an idea of the current approaches to word embeddings and began to understand how to quickly implement these approaches in Python. The world of NLP is diverse and there are many more models and methods for embeddings. In my article I focused on the most common and those that we ourselves often use in our work. You can find additional information in the **References** section."
      ]
    },
    {
      "cell_type": "markdown",
      "metadata": {
        "id": "XxnDjaFYMolw"
      },
      "source": [
        "## References\n",
        "\n",
        "- [BERT Word Embeddings Tutorial](https://mccormickml.com/2019/05/14/BERT-word-embeddings-tutorial/)\n",
        "- [The Illustrated Transformer](http://jalammar.github.io/illustrated-transformer/)\n",
        "- [The Illustrated GPT-2 (Visualizing Transformer Language Models)](http://jalammar.github.io/illustrated-gpt2/)\n",
        "- [FROM Pre-trained Word Embeddings TO Pre-trained Language Models — Focus on BERT](https://towardsdatascience.com/from-pre-trained-word-embeddings-to-pre-trained-language-models-focus-on-bert-343815627598)\n",
        "- [ Make your own Rick Sanchez (bot) with Transformers and DialoGPT fine-tuning](https://towardsdatascience.com/make-your-own-rick-sanchez-bot-with-transformers-and-dialogpt-fine-tuning-f85e6d1f4e30)\n",
        "- [Playing with word vectors](https://medium.com/swlh/playing-with-word-vectors-308ab2faa519)\n",
        "- [Intuitive Guide to Understanding GloVe Embeddings](https://towardsdatascience.com/light-on-math-ml-intuitive-guide-to-understanding-glove-embeddings-b13b4f19c010)\n",
        "- [Word Embeddings in Python with Spacy and Gensim](https://www.shanelynn.ie/word-embeddings-in-python-with-spacy-and-gensim/)\n",
        "- [Brief review of word embedding families (2019) ](https://medium.com/analytics-vidhya/brief-review-of-word-embedding-families-2019-b2bbc601bbfe)\n",
        "- [Word embeddings: exploration, explanation, and exploitation (with code in Python)](https://towardsdatascience.com/word-embeddings-exploration-explanation-and-exploitation-with-code-in-python-5dac99d5d795)"
      ]
    },
    {
      "cell_type": "code",
      "metadata": {
        "id": "-IXkbDV1kUz7"
      },
      "source": [],
      "execution_count": null,
      "outputs": []
    }
  ]
}